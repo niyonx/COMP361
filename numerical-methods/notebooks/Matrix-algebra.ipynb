{
 "cells": [
  {
   "cell_type": "markdown",
   "metadata": {
    "slideshow": {
     "slide_type": "slide"
    }
   },
   "source": [
    "# Matrix algebra\n",
    "\n",
    "A matrix is an $n \\times m$ rectangle of numbers, written as follows:\n",
    "\n",
    "$$\n",
    "\\textbf{A}=\n",
    "\\begin{bmatrix}\n",
    "A_{11} & A_{12} & A_{13} \\\\\n",
    "A_{21} & A_{22} & A_{23} \\\\\n",
    "A_{31} & A_{32} & A_{33}\n",
    "\\end{bmatrix}\n",
    "$$\n",
    "(in this example, $n=3$ and $m=3$)\n",
    "\n",
    "Special cases:\n",
    "* $n=m$: $\\textit{square matrix}$\n",
    "* $n=1$: $\\textit{row vector}$\n",
    "* $m=1$: $\\textit{column vector}$"
   ]
  },
  {
   "cell_type": "markdown",
   "metadata": {
    "slideshow": {
     "slide_type": "slide"
    }
   },
   "source": [
    "## Transpose\n",
    "\n",
    "The transpose of a matrix $\\textbf{A}$ is written $\\textbf{A}^T$ and defined as:\n",
    "$$\n",
    "\\quad A^T_{ij} = A_{ji}, \\quad \\forall i \\in |[1, n]|, \\forall j \\in |[1, m]|\n",
    "$$\n",
    "\n",
    "A matrix is called *symmetric* if $\\textbf{A}^T=\\textbf{A}$."
   ]
  },
  {
   "cell_type": "markdown",
   "metadata": {
    "slideshow": {
     "slide_type": "slide"
    }
   },
   "source": [
    "## Addition\n",
    "\n",
    "The sum $\\textbf{C}$ = $\\textbf{A}$ + $\\textbf{B}$ of two matrices of size $n \\times m$ is defined as:\n",
    "$$\n",
    "C_{ij} = A_{ij} + B_{ij}, \\quad \\forall i \\in |[1, n]|, \\forall j \\in |[1, m]|\n",
    "$$"
   ]
  },
  {
   "cell_type": "markdown",
   "metadata": {
    "slideshow": {
     "slide_type": "slide"
    }
   },
   "source": [
    "## Product\n",
    "\n",
    "The product $\\textbf{C}$=$\\textbf{AB}$ of an $n \\times p$ matrix with a $p \\times m$ matrix is an $n \\times m$ matrix defined as:\n",
    "    \n",
    "$$\n",
    "C_{ij} = \\sum_{k=1}^p A_{ik}B_{kj} \\forall i \\in |[1, n]|, \\forall j \\in |[1, m]|\n",
    "$$\n",
    "\n",
    "Warnings:\n",
    "* Mind the matrix sizes!\n",
    "* In general, product is not commutative! But it is associative and distributive over addition."
   ]
  },
  {
   "cell_type": "markdown",
   "metadata": {
    "slideshow": {
     "slide_type": "slide"
    }
   },
   "source": [
    "#### Example\n",
    "\n",
    "Compute the product of $\\textbf{A}$ with $\\textbf{B}$ defined as follows:\n",
    "$$\n",
    "\\textbf{A} = \n",
    "\\begin{bmatrix}\n",
    "1 & 2 & 3 \\\\\n",
    "4 & 5 & 6\n",
    "\\end{bmatrix}\n",
    "\\quad and \\quad \\textbf{B} = \n",
    "\\begin{bmatrix}\n",
    "1 & 2  \\\\\n",
    "4 & 5 \\\\\n",
    "7 & 8 \n",
    "\\end{bmatrix}\n",
    "$$\n",
    "(we will do it manually in class)\n",
    "\n",
    "With numpy:"
   ]
  },
  {
   "cell_type": "code",
   "execution_count": null,
   "metadata": {
    "slideshow": {
     "slide_type": "fragment"
    }
   },
   "outputs": [],
   "source": [
    "from numpy import array\n",
    "from numpy import dot\n",
    "\n",
    "a = array([[1, 2, 3],[4, 5, 6]])\n",
    "b = array([[1,2],[4,5],[7,8]])\n",
    "dot(a,b) # note the expression of the matrix product as a dot product between rows of A and columns of B"
   ]
  },
  {
   "cell_type": "markdown",
   "metadata": {
    "slideshow": {
     "slide_type": "slide"
    }
   },
   "source": [
    "### Exercise\n",
    "\n",
    "Write a Python program that computes the product of two matrices.\n",
    "\n",
    "Solution:"
   ]
  },
  {
   "cell_type": "code",
   "execution_count": null,
   "metadata": {
    "slideshow": {
     "slide_type": "fragment"
    }
   },
   "outputs": [],
   "source": [
    "from numpy import zeros, shape\n",
    "def product(a, b):\n",
    "    n, p1 = shape(a)\n",
    "    p2, m = shape(b)\n",
    "    assert(p1 == p2), \"Matrix sizes don't match!\"\n",
    "    c = zeros((n, m))\n",
    "    for i in range(n):\n",
    "        for j in range(m):\n",
    "            c[i, j] = dot(a[i],b[:, j])\n",
    "    return c\n",
    "            "
   ]
  },
  {
   "cell_type": "code",
   "execution_count": null,
   "metadata": {
    "slideshow": {
     "slide_type": "fragment"
    }
   },
   "outputs": [],
   "source": [
    "product(a, b)"
   ]
  },
  {
   "cell_type": "markdown",
   "metadata": {
    "slideshow": {
     "slide_type": "slide"
    }
   },
   "source": [
    "### Identity Matrix\n",
    "\n",
    "The identity matrix of size $n$ is a square matrix with $1$s on its diagonal and $0$s everywhere else:\n",
    "$$\n",
    "\\textbf{I}_n=\n",
    "\\begin{bmatrix}\n",
    "1 & 0 & 0 & \\ldots & 0 \\\\\n",
    "0 & 1 & 0 & \\ldots &0 \\\\\n",
    "0 & 0 & 1 & \\ldots & 0 \\\\\n",
    "\\ldots \\\\\n",
    "0 & 0 & 0 & \\ldots & 1\n",
    "\\end{bmatrix}\n",
    "$$\n",
    "\n",
    "It verifies $\\textbf{AI} = \\textbf{IA} = \\textbf{A}$ for every square matrix $\\textbf{A}$ of size $n$."
   ]
  },
  {
   "cell_type": "markdown",
   "metadata": {
    "slideshow": {
     "slide_type": "slide"
    }
   },
   "source": [
    "### Determinant of a Matrix\n",
    "\n",
    "The determinant of a 2x2 matrix is defined as:\n",
    "\n",
    "$$\n",
    "\\mathrm{det}(\\textbf{A}) = A_{11}A_{22}-A_{12}A_{21}\n",
    "$$\n",
    "\n",
    "The determinant of a nxn matrix is defined recursively, $\\forall i \\leq n$: \n",
    "\n",
    "$$\n",
    "\\mathrm{det}(\\textbf{A}) = \\sum_{k=1}^n(-1)^{k+1}A_{ik}M_{ik}\n",
    "$$\n",
    "\n",
    "where $M_{ik}$ is the determinant of the $(n-1) \\times (n-1)$ matrix obtained by deleting the ith row and kth column of $\\textbf{A}$.\n",
    "\n",
    "This expression is called the Laplace developement of the determinant.\n",
    "\n"
   ]
  },
  {
   "cell_type": "markdown",
   "metadata": {
    "slideshow": {
     "slide_type": "slide"
    }
   },
   "source": [
    "#### Example\n",
    "\n",
    "$$\n",
    "\\textbf{A} = \\begin{bmatrix}\n",
    "1 & 2 & 1 \\\\\n",
    "4 & 7 & 2 \\\\\n",
    "5 & 2 & 3\n",
    "\\end{bmatrix}\n",
    "$$\n",
    "\n",
    "$$\\mathrm{det}(\\textbf{A})=-14$$\n",
    "\n",
    "(done manually in class)\n",
    "\n",
    "With numpy:"
   ]
  },
  {
   "cell_type": "code",
   "execution_count": null,
   "metadata": {
    "slideshow": {
     "slide_type": "fragment"
    }
   },
   "outputs": [],
   "source": [
    "from numpy import linalg, array\n",
    "a = array([[1, 2, 1], [4, 7, 2], [5, 2, 3]])\n",
    "linalg.det(a)"
   ]
  },
  {
   "cell_type": "markdown",
   "metadata": {
    "slideshow": {
     "slide_type": "slide"
    }
   },
   "source": [
    "#### Implementation\n",
    "\n",
    "The following function computes the determinant of a matrix defined in a numpy array."
   ]
  },
  {
   "cell_type": "code",
   "execution_count": null,
   "metadata": {
    "slideshow": {
     "slide_type": "fragment"
    }
   },
   "outputs": [],
   "source": [
    "from numpy import array\n",
    "from numpy import zeros\n",
    "from numpy import shape\n",
    "\n",
    "def determinant(a):\n",
    "    # Check that a is square and of size at least 2\n",
    "    n, m = shape(a)\n",
    "    assert(n>=2)\n",
    "    assert(n==m)\n",
    "    # Case n = 2\n",
    "    if n == 2:\n",
    "        return a[0,0]*a[1,1]-a[0,1]*a[1,0]\n",
    "    # Case n > 2\n",
    "    det = 0\n",
    "    for k in range(n): # from 0 to n-1\n",
    "        # Build Mik\n",
    "        m = zeros((n-1,n-1))\n",
    "        i = 0 # could be any int between 0 and n-1\n",
    "        for l in range(0, n):\n",
    "            if l == i: # skip row i\n",
    "                continue\n",
    "            for j in range(n-1):\n",
    "                if j < k:\n",
    "                    m[l-1,j] = a[l,j]\n",
    "                else:\n",
    "                    m[l-1,j] = a[l,j+1] # skip column k\n",
    "        det += (-1)**(k)*a[i,k]*determinant(m) # recursive call to the function\n",
    "    return det\n"
   ]
  },
  {
   "cell_type": "code",
   "execution_count": null,
   "metadata": {
    "slideshow": {
     "slide_type": "fragment"
    }
   },
   "outputs": [],
   "source": [
    "determinant(a)"
   ]
  },
  {
   "cell_type": "markdown",
   "metadata": {
    "slideshow": {
     "slide_type": "slide"
    }
   },
   "source": [
    "#### Exercise\n",
    "\n",
    "Determine the determinant of the following matrix:\n",
    "\n",
    "$$\n",
    "\\textbf{A}=\n",
    "\\begin{bmatrix}\n",
    "        2.1 & -0.6 & 1.1 \\\\\n",
    "        3.2 & 4.7 & -0.8 \\\\\n",
    "        3.1 & -6.5 & 4.1 \n",
    "    \\end{bmatrix}\n",
    "$$"
   ]
  },
  {
   "cell_type": "markdown",
   "metadata": {
    "slideshow": {
     "slide_type": "fragment"
    }
   },
   "source": [
    "Using our own function:"
   ]
  },
  {
   "cell_type": "code",
   "execution_count": null,
   "metadata": {
    "slideshow": {
     "slide_type": "fragment"
    }
   },
   "outputs": [],
   "source": [
    "a = array([[2.1, -0.6, 1.1], [3.2, 4.7, -0.8], [3.1, -6.5, 4.1]])\n",
    "determinant(a)"
   ]
  },
  {
   "cell_type": "markdown",
   "metadata": {
    "slideshow": {
     "slide_type": "fragment"
    }
   },
   "source": [
    "Using numpy:"
   ]
  },
  {
   "cell_type": "code",
   "execution_count": null,
   "metadata": {
    "slideshow": {
     "slide_type": "fragment"
    }
   },
   "outputs": [],
   "source": [
    "from numpy import linalg\n",
    "linalg.det(a)"
   ]
  },
  {
   "cell_type": "markdown",
   "metadata": {
    "slideshow": {
     "slide_type": "slide"
    }
   },
   "source": [
    "Let's go back to [Chapter 2](Chapter2.ipynb) for a minute."
   ]
  },
  {
   "cell_type": "markdown",
   "metadata": {
    "slideshow": {
     "slide_type": "slide"
    }
   },
   "source": [
    "# Vector Norms\n",
    "\n",
    "(Adapted from E. Doedel's lecture notes)\n",
    "\n",
    "A norm is a function that assigns a positive number to a vector of a vector space.\n",
    "\n",
    "## Examples of norms\n",
    "\n",
    "For $\\textbf{x} \\in R^n$, $\\textbf{x}=(x_1, \\ldots, x_n)^T$:\n",
    "\n",
    "$||\\textbf{x}||_1 = \\sum_{i=1}^n|x_i|$, the \"one-norm\"\n",
    "\n",
    "$||\\textbf{x}||_2 = \\left(\\sum_{i=1}^nx_i^2\\right)^{\\frac{1}{2}}$, the \"two-norm\" or Euclidean norm\n",
    "\n",
    "$||\\textbf{x}||_\\infty = \\max_{1 \\leq i \\leq n}|x_i|$, the \"infinity-norm\" or \"max-norm\"\n",
    "\n",
    "$||\\textbf{x}||_1$ and $||\\textbf{x}||_2$ are special cases of:\n",
    "$||\\textbf{x}||_p = \\left(\\sum_{i=1}^n|x_i|^p\\right)^\\frac{1}{p}$"
   ]
  },
  {
   "cell_type": "markdown",
   "metadata": {
    "slideshow": {
     "slide_type": "slide"
    }
   },
   "source": [
    "## Example\n",
    "\n",
    "If $\\textbf{x}=(1, -2, 4)^T$,\n",
    "* $||\\textbf{x}||_1=7$\n",
    "* $||\\textbf{x}||_2=\\sqrt{21}$\n",
    "* $||\\textbf{x}||_\\infty=4$\n",
    "\n",
    "In numpy:"
   ]
  },
  {
   "cell_type": "code",
   "execution_count": null,
   "metadata": {
    "slideshow": {
     "slide_type": "fragment"
    }
   },
   "outputs": [],
   "source": [
    "from numpy import array\n",
    "from numpy.linalg import norm\n",
    "\n",
    "x=array([1, -2, 4])\n",
    "norm(x, ord=1)\n"
   ]
  },
  {
   "cell_type": "code",
   "execution_count": null,
   "metadata": {
    "slideshow": {
     "slide_type": "slide"
    }
   },
   "outputs": [],
   "source": [
    "norm(x, ord=2)"
   ]
  },
  {
   "cell_type": "code",
   "execution_count": null,
   "metadata": {
    "slideshow": {
     "slide_type": "fragment"
    }
   },
   "outputs": [],
   "source": [
    "from numpy import inf\n",
    "norm(x, ord=inf)"
   ]
  },
  {
   "cell_type": "markdown",
   "metadata": {
    "slideshow": {
     "slide_type": "slide"
    }
   },
   "source": [
    "## Definition\n",
    "\n",
    "Vector norms are required to satisfy:\n",
    "\n",
    "1. $||\\textbf{x}|| = 0 \\quad \\forall \\textbf{x} \\in \\mathbb{R}^n$ and $||\\textbf{x}|| = 0$ only if $\\textbf{x} = \\textbf{0}$\n",
    "2. $||\\alpha \\textbf{x}|| = |\\alpha|||\\textbf{x}||, \\quad \\forall \\textbf{x} \\in \\mathbb{R}^n, \\quad \\forall \\alpha \\in \\mathbb{R}$\n",
    "3. $||\\textbf{x}+\\textbf{y}|| \\leq ||\\textbf{x}|| + ||\\textbf{y}||,\\quad \\forall \\textbf{x},\\textbf{y} \\in \\mathbb{R}^n $ (Triangle inequality)"
   ]
  },
  {
   "cell_type": "markdown",
   "metadata": {
    "slideshow": {
     "slide_type": "fragment"
    }
   },
   "source": [
    "All the examples of norms given above satisfy 1, 2 and 3."
   ]
  },
  {
   "cell_type": "markdown",
   "metadata": {
    "slideshow": {
     "slide_type": "slide"
    }
   },
   "source": [
    "## Exercises\n",
    "\n",
    "1. Let $\\textbf{x}=(1, -2, 3)^T$. Compute $||\\textbf{x}||_1, ||\\textbf{x}||_2$ and $||\\textbf{x}||_\\infty$.\n",
    "2. Graphically indicate all vectors $\\textbf{x} \\in \\mathbb{R}^2$ for which $||\\textbf{x}||_2=1$. Do the same for $||\\textbf{x}||_1$ and $||\\textbf{x}||_\\infty$."
   ]
  },
  {
   "cell_type": "markdown",
   "metadata": {
    "slideshow": {
     "slide_type": "slide"
    }
   },
   "source": [
    "# Matrix norms\n",
    "\n",
    "The set of matrices of size $n \\times m$, is a vector space written $K^{n \\times m}$. Vector norms induce norms on $K^{n \\times m}$ as follows:\n",
    "$$\n",
    "|| \\textbf{A} || = \\max_{\\textbf{x} \\neq 0}\\frac{||\\textbf{Ax}||}{||\\textbf{x}||}\n",
    "$$\n",
    "||$\\textbf{A}$|| measures the maximum relative stretching in ||.|| resulting from the application of $\\textbf{A}$.\n",
    "\n"
   ]
  },
  {
   "cell_type": "markdown",
   "metadata": {
    "slideshow": {
     "slide_type": "slide"
    }
   },
   "source": [
    "## Examples of matrix norms\n",
    "\n",
    "Row-sum norm, a.k.a the infinity norm:\n",
    "\n",
    "$$\n",
    "||\\textbf{A}||_\\infty=\\max_{\\textbf{x} \\neq 0}{\\frac{||\\textbf{Ax}||_\\infty}{||\\textbf{x}||_\\infty}} = \\max_{1\\leq i \\leq n}\\sum_{j=1}^n|A_{ij}|\n",
    "$$\n",
    "\n",
    "Column-sum norm, a.k.a the one-norm:\n",
    "$$\n",
    "||\\textbf{A}||_1= \\max_{\\textbf{x} \\neq 0}{\\frac{||\\textbf{Ax}||_1}{||\\textbf{x}||_1}}=\\max_{1\\leq j \\leq n}\\sum_{i=1}^n|A_{ij}|\n",
    "$$\n",
    "\n",
    "Frobenius norm:\n",
    "\n",
    "$$\n",
    "||\\textbf{A}||_F = \\sqrt{\\sum_{i=1}^n\\sum_{j=1}^nA_{ij}^2}\n",
    "$$\n"
   ]
  },
  {
   "cell_type": "markdown",
   "metadata": {
    "slideshow": {
     "slide_type": "slide"
    }
   },
   "source": [
    "## Exercises\n",
    "\n",
    "Compute $||\\textbf{A}||_F, ||\\textbf{A}||_\\infty$ and $||\\textbf{A}||_1$ for:\n",
    "$$\n",
    "\\textbf{A}=\n",
    "\\begin{bmatrix}\n",
    "1 & 2 \\\\\n",
    "-1 & 2\n",
    "\\end{bmatrix}\n",
    "$$\n",
    "\n",
    "\n",
    "In numpy:"
   ]
  },
  {
   "cell_type": "code",
   "execution_count": null,
   "metadata": {
    "slideshow": {
     "slide_type": "fragment"
    }
   },
   "outputs": [],
   "source": [
    "from numpy import array\n",
    "from numpy.linalg import norm\n",
    "a = array([[1, 2],[-1, 2]])\n",
    "norm(a, ord='fro')"
   ]
  },
  {
   "cell_type": "code",
   "execution_count": null,
   "metadata": {
    "slideshow": {
     "slide_type": "fragment"
    }
   },
   "outputs": [],
   "source": [
    "from numpy import inf\n",
    "norm(a, ord=inf)"
   ]
  },
  {
   "cell_type": "code",
   "execution_count": null,
   "metadata": {
    "slideshow": {
     "slide_type": "fragment"
    }
   },
   "outputs": [],
   "source": [
    "norm(a, ord=1)"
   ]
  },
  {
   "cell_type": "markdown",
   "metadata": {
    "slideshow": {
     "slide_type": "fragment"
    }
   },
   "source": [
    "Back to [Chapter 2](Chapter2.ipynb)."
   ]
  },
  {
   "cell_type": "markdown",
   "metadata": {
    "slideshow": {
     "slide_type": "skip"
    }
   },
   "source": [
    "## Positive definiteness\n",
    "\n",
    "A symmetric matrix $\\textbf{A}$ is said to be positive definite if and only if:\n",
    "$$\n",
    "\\textbf{x}^T\\textbf{A}\\textbf{x} > 0, \\quad \\forall \\textbf{x} \\neq 0\n",
    "$$\n",
    "\n"
   ]
  }
 ],
 "metadata": {
  "celltoolbar": "Slideshow",
  "kernelspec": {
   "display_name": "Python 2",
   "language": "python",
   "name": "python2"
  },
  "language_info": {
   "codemirror_mode": {
    "name": "ipython",
    "version": 3
   },
   "file_extension": ".py",
   "mimetype": "text/x-python",
   "name": "python",
   "nbconvert_exporter": "python",
   "pygments_lexer": "ipython3",
   "version": "3.7.3"
  }
 },
 "nbformat": 4,
 "nbformat_minor": 2
}
