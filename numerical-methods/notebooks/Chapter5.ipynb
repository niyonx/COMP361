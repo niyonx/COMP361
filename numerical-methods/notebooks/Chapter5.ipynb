{
 "cells": [
  {
   "cell_type": "markdown",
   "metadata": {},
   "source": [
    "# Chapter 5: Numerical Differentiation\n",
    "\n",
    "\n",
    "**Goal**: Given the function f(x), compute $\\frac{d^nf}{dx^n}$ at a given $x$."
   ]
  },
  {
   "cell_type": "markdown",
   "metadata": {},
   "source": [
    "## Introduction\n",
    "\n",
    "f is given as:\n",
    "* A program, or:\n",
    "* A finite number of (x,y) data pairs.\n",
    "\n",
    "Methods to compute f' rely on:\n",
    "* The Taylor expansion of f, or\n",
    "* Interpolation of f\n",
    "\n",
    "Note: numerical differentiation is not an accurate process, it is prone to roundoff errors caused by limited machine precision."
   ]
  },
  {
   "cell_type": "markdown",
   "metadata": {},
   "source": [
    "## Finite Difference Approximations"
   ]
  },
  {
   "cell_type": "markdown",
   "metadata": {},
   "source": [
    "### [Taylor](https://en.wikipedia.org/wiki/Brook_Taylor) expansion\n",
    "\n",
    "The forward and backward Taylor expansion of degree 4 of f(x) at $h$ is:\n",
    "$$\n",
    "f(x+h) = f(x) + hf'(x) + \\frac{h^2}{2!}f''(x) + \\frac{h^3}{3!}f'''(x) + \\frac{h^4}{4!}f^{(4)}(x) + \\mathcal{o}\\left( h^4 \\right) \\quad \\mathrm{\\textbf{(a)}}\\\\\n",
    "f(x-h) = f(x) - hf'(x) + \\frac{h^2}{2!}f''(x) - \\frac{h^3}{3!}f'''(x) + \\frac{h^4}{4!}f^{(4)}(x) +\\mathcal{o}\\left( h^4 \\right) \\quad \\mathrm{\\textbf{(b)}}\n",
    "$$\n"
   ]
  },
  {
   "cell_type": "markdown",
   "metadata": {},
   "source": [
    "### [Landau](https://en.wikipedia.org/wiki/Edmund_Landau) notations\n",
    "\n",
    "#### Big-O\n",
    "$$\n",
    "f(x)=\\mathcal{O}_{x=a}\\left( g(x) \\right) \\Leftrightarrow lim_{x=a}\\frac{f(x)}{g(x)} < \\infty\n",
    "$$\n",
    "\n",
    "#### Little-O\n",
    "\n",
    "$$\n",
    "f(x)=\\mathcal{o}_{x=a}\\left( g(x) \\right) \\Leftrightarrow lim_{x=a}\\frac{f(x)}{g(x)} = 0\n",
    "$$\n",
    "Note: Small-O implies Big-O"
   ]
  },
  {
   "cell_type": "markdown",
   "metadata": {},
   "source": [
    "### Central Difference Approximations in $\\mathcal{O}\\left(h^2\\right)$\n",
    "\n",
    "\n",
    "#### Expressions of f' and f''\n",
    "\n",
    "Equations (a) and (b) can be used to get a $\\mathcal{O}\\left(h^2 \\right)$ approximation of $f'$ and $f''$:\n"
   ]
  },
  {
   "cell_type": "markdown",
   "metadata": {},
   "source": [
    "$$\n",
    "f'(x) = \\frac{f(x+h)-f(x-h)}{2h} + \\mathcal{O}\\left(h^2\\right) \\quad \\textbf{(1)} \n",
    "$$\n",
    "\n",
    "$$\n",
    "f''(x) = \\frac{f(x+h)+f(x-h)-2f(x)}{h^2} + \\mathcal{O}\\left(h^2\\right) \\quad \\textbf{(2)} \n",
    "$$\n",
    "\n",
    "Equations $\\textbf{(1)}$ and $\\textbf{(2)}$ are called *first central difference approximation for f' and f''*."
   ]
  },
  {
   "cell_type": "markdown",
   "metadata": {},
   "source": [
    "#### Expression of f''' and $f^{(4)}$\n",
    "\n",
    "We need two more equations to compute f''' and $f^{(4)}$. These are provided by the forward and backward Taylor expansion of $f$ at $2h$:\n",
    "\n",
    "$$\n",
    "f(x+2h) = f(x) + 2hf'(x) + \\frac{4h^2}{2!}f''(x) + \\frac{8h^3}{3!}f'''(x) + \\frac{16h^4}{4!}f^{(4)}(x) + o\\left(h^4\\right) \\quad \\mathrm{\\textbf{(c)}}\n",
    "$$\n",
    "$$\n",
    "f(x-2h) = f(x) - 2hf'(x) + \\frac{4h^2}{2!}f''(x) - \\frac{8h^3}{3!}f'''(x) + \\frac{16h^4}{4!}f^{(4)}(x) + o\\left(h^4\\right) \\quad \\mathrm{\\textbf{(d)}}\n",
    "$$\n",
    "And Equations $\\textbf{(a)}$ and $\\textbf{(b)}$ are still:\n",
    "$$\n",
    "f(x+h) = f(x) + hf'(x) + \\frac{h^2}{2!}f''(x) + \\frac{h^3}{3!}f'''(x) + \\frac{h^4}{4!}f^{(4)}(x) + \\mathcal{o}\\left( h^4 \\right) \\quad \\mathrm{\\textbf{(a)}}\\\\\n",
    "f(x-h) = f(x) - hf'(x) + \\frac{h^2}{2!}f''(x) - \\frac{h^3}{3!}f'''(x) + \\frac{h^4}{4!}f^{(4)}(x) +\\mathcal{o}\\left( h^4 \\right) \\quad \\mathrm{\\textbf{(b)}}\n",
    "$$\n"
   ]
  },
  {
   "cell_type": "markdown",
   "metadata": {},
   "source": [
    "By solving this system in $f'(x)$, $f''(x)$, $f'''(x)$ and $f^{(4)}(x)$, we obtain the first central difference approximations for f''' and $f^{(4)}$:\n",
    "$$\n",
    "f'''(x) = \\frac{2f(x-h)+f(x+2h)-2f(x+h)-f(x-2h)}{2h^3} + \\mathcal{O}\\left( h^2 \\right) \\quad \\textbf{(3)}\n",
    "$$\n",
    "$$\n",
    "f^{(4)}(x) = \\frac{f(x+2h)+f(x-2h)+6f(x)-4f(x-h)-4f(x+h)}{h^4} + \\mathcal{O}\\left( h^2 \\right) \\quad \\textbf{(4)}\n",
    "$$"
   ]
  },
  {
   "cell_type": "markdown",
   "metadata": {},
   "source": [
    "#### Error analysis\n",
    "\n",
    "Equations $\\textbf{(1)}$ to $\\textbf{(4)}$ are hampered by the following trade-off:\n",
    "1. When $h$ is large, $\\mathcal{O}\\left( h^2 \\right)$ is also large $\\rightarrow$ the *truncation* error is large.\n",
    "2. When $h$ is small:\n",
    "   * $f(x) \\approx f(x+h) \\approx f(x-h) \\approx f(x+2h) \\approx f(x-2h)$.\n",
    "   * The nominator and denominator in Equations $\\textbf{(1)}$ to $\\textbf{(4)}$ are close to zero.\n",
    "   * $\\rightarrow$ the *roundoff* error is large.\n",
    "   \n",
    "Numerical derivation is not an accurate process!"
   ]
  },
  {
   "cell_type": "markdown",
   "metadata": {},
   "source": [
    "#### Implementation\n",
    "\n",
    "The implementation of equations Equations $\\textbf{(1)}$ to $\\textbf{(4)}$ is straightforward:"
   ]
  },
  {
   "cell_type": "code",
   "execution_count": 25,
   "metadata": {},
   "outputs": [],
   "source": [
    "def f_1(f, x, h=10E-2):\n",
    "    return (f(x+h)-f(x-h))/(2*h)\n",
    "\n",
    "def f_2(f, x, h=10E-2):\n",
    "    return (f(x+h)-2*f(x)+f(x-h))/h**2\n",
    "\n",
    "def f_3(f, x, h=10E-2):\n",
    "    return (f(x+2*h)-2*f(x+h)+2*f(x-h)-f(x-2*h))/(2*h**3)\n",
    "\n",
    "def f_4(f, x, h=10E-2):\n",
    "    return (f(x+2*h)-4*f(x+h)+6*f(x)-4*f(x-h)+f(x-2*h))/h**4"
   ]
  },
  {
   "cell_type": "markdown",
   "metadata": {},
   "source": [
    "#### Illustration\n",
    "\n",
    "$$\n",
    "f(x) = exp(x)\n",
    "$$\n",
    "\n",
    "Small h ($\\approx 10^{-9}$):"
   ]
  },
  {
   "cell_type": "code",
   "execution_count": 26,
   "metadata": {},
   "outputs": [
    {
     "data": {
      "image/png": "[encoded data removed]",
      "text/plain": [
       "<Figure size 432x288 with 1 Axes>"
      ]
     },
     "metadata": {},
     "output_type": "display_data"
    },
    {
     "data": {
      "image/png": "[encoded data removed]",
      "text/plain": [
       "<Figure size 432x288 with 1 Axes>"
      ]
     },
     "metadata": {},
     "output_type": "display_data"
    }
   ],
   "source": [
    "from math import exp\n",
    "from numpy import zeros\n",
    "from numpy import zeros, ones, arange\n",
    "from math import exp\n",
    "n = 200\n",
    "x = 1\n",
    "incr_h = 10E-9\n",
    "h = incr_h+incr_h*arange(n)\n",
    "f = ones(n)*exp(x)\n",
    "df = zeros(n)\n",
    "ddddf = zeros(n)\n",
    "for i in range(n):\n",
    "    df[i] = f_1(exp, x, h[i])\n",
    "    ddddf[i] = f_4(exp, x, h[i])\n",
    "    \n",
    "from matplotlib import pyplot as plt\n",
    "plt.plot(h, f, h, df)\n",
    "plt.legend((\"reference\", \"f'\"))\n",
    "plt.show()\n",
    "plt.plot(h, f, h, ddddf)\n",
    "plt.legend((\"reference\", \"$f^{(4)}$\"))\n",
    "plt.show()"
   ]
  },
  {
   "cell_type": "markdown",
   "metadata": {},
   "source": [
    "Large h ($h \\approx 10^{-4}$):"
   ]
  },
  {
   "cell_type": "code",
   "execution_count": 27,
   "metadata": {},
   "outputs": [
    {
     "data": {
      "image/png": "[encoded data removed]",
      "text/plain": [
       "<Figure size 432x288 with 1 Axes>"
      ]
     },
     "metadata": {},
     "output_type": "display_data"
    },
    {
     "data": {
      "image/png": "[encoded data removed]",
      "text/plain": [
       "<Figure size 432x288 with 1 Axes>"
      ]
     },
     "metadata": {},
     "output_type": "display_data"
    }
   ],
   "source": [
    "from math import exp\n",
    "from numpy import zeros\n",
    "from numpy import zeros, ones, arange\n",
    "from math import exp\n",
    "n = 200\n",
    "x = 1\n",
    "incr_h = 10E-4\n",
    "h = incr_h+incr_h*arange(n)\n",
    "f = ones(n)*exp(x)\n",
    "df = zeros(n)\n",
    "ddddf = zeros(n)\n",
    "for i in range(n):\n",
    "    df[i] = f_1(exp, x, h[i])\n",
    "    ddddf[i] = f_4(exp, x, h[i])\n",
    "    \n",
    "from matplotlib import pyplot as plt\n",
    "plt.plot(h, f, h, df)\n",
    "plt.legend((\"reference\", \"f'\"))\n",
    "plt.show()\n",
    "plt.plot(h, f, h, ddddf)\n",
    "plt.legend((\"reference\", \"$f^{(4)}$\"))\n",
    "plt.show()"
   ]
  },
  {
   "cell_type": "markdown",
   "metadata": {},
   "source": [
    "### Non-central approximations\n",
    "\n",
    "Central approximations are not always usable. For instance, if the function is given at $x_0$, ..., $x_n$, they cannot be used\n",
    "to compute the derivatives at $x_0$ and $x_n$."
   ]
  },
  {
   "cell_type": "markdown",
   "metadata": {},
   "source": [
    "#### Approximation in $\\mathcal{O}\\left(h\\right)$\n",
    "\n",
    "The first *forward* approximation of f' is obtained from:\n",
    "\n",
    "$$\n",
    "f(x+h) = f(x) + hf'(x) + \\frac{h^2}{2!}f''(x) + \\mathcal{o}\\left( h^2 \\right)\n",
    "$$\n",
    "\n",
    "which gives:\n",
    "\n",
    "$$\n",
    "f'(x) = \\frac{f(x+h)-f(x)}{h} + \\mathcal{O}\\left( h \\right) \\quad \\textbf{(5)}\n",
    "$$"
   ]
  },
  {
   "cell_type": "markdown",
   "metadata": {},
   "source": [
    "Likewise, the first *backward* approximation of f' is obtained from:\n",
    "\n",
    "$$\n",
    "f(x-h) = f(x) - hf'(x) + \\frac{h^2}{2!} f''(x)+\\mathcal{o}\\left( h^2 \\right)\n",
    "$$\n",
    "\n",
    "which gives:\n",
    "\n",
    "$$\n",
    "f'(x) = \\frac{f(x)-f(x-h)}{h} + \\mathcal{O}\\left( h \\right)\n",
    "$$"
   ]
  },
  {
   "cell_type": "markdown",
   "metadata": {},
   "source": [
    "#### Error analysis\n",
    "\n",
    "Approximations in $\\mathcal{O}\\left(h\\right)$ are not accurate, as illustrated below."
   ]
  },
  {
   "cell_type": "code",
   "execution_count": 16,
   "metadata": {},
   "outputs": [],
   "source": [
    "def first_forward(f, x, h):\n",
    "    return (f(x+h)-f(x))/h"
   ]
  },
  {
   "cell_type": "code",
   "execution_count": 28,
   "metadata": {},
   "outputs": [
    {
     "data": {
      "image/png": "[encoded data removed]",
      "text/plain": [
       "<Figure size 432x288 with 1 Axes>"
      ]
     },
     "metadata": {},
     "output_type": "display_data"
    }
   ],
   "source": [
    "from numpy import zeros, ones, arange\n",
    "from math import exp\n",
    "n = 200\n",
    "x = 1\n",
    "incr_h = 10E-10\n",
    "h = incr_h+incr_h*arange(n)\n",
    "f = ones(n)*exp(x)\n",
    "df = zeros(n)\n",
    "df_cent = zeros(n)\n",
    "for i in range(n):\n",
    "    df[i] = first_forward(exp, x, h[i])\n",
    "    df_cent[i] = f_1(exp, x, h[i]) # central approximation\n",
    "\n",
    "    \n",
    "from matplotlib import pyplot as plt\n",
    "plt.plot(h, f, h, df, h, df_cent)\n",
    "plt.legend(('reference', 'forward O($h$)', 'central O($h^2$)'))\n",
    "plt.show()"
   ]
  },
  {
   "cell_type": "markdown",
   "metadata": {},
   "source": [
    "#### Approximation in $\\mathcal{O}\\left(h^2\\right)$\n",
    "\n",
    "First-order approximations are not accurate. Instead, second-order *forward* approximations of $f'$ and $f''$ can be obtained from the following equations:\n",
    "\n",
    "$$\n",
    "f(x+h) = f(x) + hf'(x) + \\frac{h^2}{2!}f''(x) + \\frac{h^3}{3!}f'''(x) + o\\left(h^3\\right)\n",
    "$$\n",
    "\n",
    "$$\n",
    "f(x+2h) = f(x) + 2hf'(x) + \\frac{4h^2}{2!}f''(x) -  \\frac{8h^3}{3!}f'''(x) + o\\left(h^3\\right)\n",
    "$$\n"
   ]
  },
  {
   "cell_type": "markdown",
   "metadata": {},
   "source": [
    "It gives:\n",
    "$$\n",
    "f'(x) = \\frac{-f(x+2h)+4f(x+h)-3f(x)}{2h} +\\mathcal{O}\\left(h^2\\right) \\quad \\textbf{(6)}\n",
    "$$\n",
    "\n",
    "Forward approximations of $f''(x)$ uses Taylor expansions of $f(x+3h)$, $f'''(x)$ uses $f(x+4h)$, etc. For instance:\n",
    "$$\n",
    "f''(x) = \\frac{2f(x)-5f(x+h)+4f(x+2h)-f(x+3h)}{h^2}\n",
    "$$\n",
    "\n",
    "Equation $\\textbf{(6)}$ is much more accurate than Equation $\\textbf{(5)}$, as illustrated below:"
   ]
  },
  {
   "cell_type": "code",
   "execution_count": 29,
   "metadata": {},
   "outputs": [],
   "source": [
    "def second_forward(f, x, h):\n",
    "    return (-f(x+2*h)+4*f(x+h)-3*f(x))/(2*h)"
   ]
  },
  {
   "cell_type": "code",
   "execution_count": 30,
   "metadata": {},
   "outputs": [
    {
     "data": {
      "image/png": "[encoded data removed]",
      "text/plain": [
       "<Figure size 432x288 with 1 Axes>"
      ]
     },
     "metadata": {},
     "output_type": "display_data"
    }
   ],
   "source": [
    "from numpy import zeros, ones, arange\n",
    "from math import exp\n",
    "n = 200\n",
    "x = 1\n",
    "incr_h = 10E-10\n",
    "h = incr_h+incr_h*arange(n)\n",
    "f = ones(n)*exp(x)\n",
    "df = zeros(n)\n",
    "df_cent = zeros(n)\n",
    "df_second = zeros(n)\n",
    "for i in range(n):\n",
    "    df[i] = first_forward(exp, x, h[i]) # o(h) forward approximation\n",
    "    df_second[i] = second_forward(exp, x, h[i]) # o(h**2) forward approximation\n",
    "    df_cent[i] = f_1(exp, x, h[i]) # central approximation\n",
    "    \n",
    "from matplotlib import pyplot as plt\n",
    "plt.plot(h, f, h, df, h, df_second, h, df_cent)\n",
    "plt.legend(('reference', 'forward o(h)', 'forward o($h^2$)', 'central o($h^2$)'))\n",
    "plt.show()"
   ]
  },
  {
   "cell_type": "markdown",
   "metadata": {},
   "source": [
    "### Example (in class)\n",
    "\n",
    "Example 5.1 in textbook."
   ]
  },
  {
   "cell_type": "markdown",
   "metadata": {},
   "source": [
    "## [Richardson](https://en.wikipedia.org/wiki/Lewis_Fry_Richardson) Extrapolation\n",
    "\n",
    "Richardson extrapolation is a way to *boost numerical accuracy*.\n",
    "\n",
    "Suppose that we have some quantity G that we can estimate using parameter $h$ with error $e$:\n",
    "$$\n",
    "G = g(h) + e(h)\n",
    "$$\n",
    "Richardson extrapolation assumes that the error is in the form $e(h)=ch^p$, with c and p constants."
   ]
  },
  {
   "cell_type": "markdown",
   "metadata": {},
   "source": [
    "We compute $G$ with two values of h, $h_1$ and $h_2$:\n",
    "\n",
    "$$\n",
    "G = g(h_1) + ch_1^p\n",
    "$$\n",
    "$$\n",
    "G = g(h_2) + ch_2^p\n",
    "$$\n"
   ]
  },
  {
   "cell_type": "markdown",
   "metadata": {},
   "source": [
    "From the first equation, we get:\n",
    "$$\n",
    "c= \\frac{G-g(h_1)}{h_1^p}\n",
    "$$\n",
    "which gives, in the second equation:\n",
    "$$\n",
    "G = \\frac{h_1^pg(h_2)-h_2^2g(h_1)}{h_1^p-h_2^p}\n",
    "$$"
   ]
  },
  {
   "cell_type": "markdown",
   "metadata": {},
   "source": [
    "### Example (in class)\n",
    "\n",
    "Richardson extrapolation for $\\mathcal{O}(n)$ approximation of $f'(x)=e^x$ at x=1, with $h_1=0.1$ and $h_2=0.2$."
   ]
  },
  {
   "cell_type": "markdown",
   "metadata": {},
   "source": [
    "## Derivatives by interpolation"
   ]
  },
  {
   "cell_type": "markdown",
   "metadata": {},
   "source": [
    "Main idea:\n",
    "* Interpolate f(x) by P(x)\n",
    "* Approximate f'(x) by P'(x)"
   ]
  },
  {
   "cell_type": "markdown",
   "metadata": {},
   "source": [
    "Useful when:\n",
    "* f(x) is given as a set of discrete points\n",
    "* Points are located at uneven intervals of x (finite differences are not applicable)"
   ]
  },
  {
   "cell_type": "markdown",
   "metadata": {},
   "source": [
    "### Polynomial interpolant\n",
    "\n",
    "Find *the* polynomial $P_n$ of degree $n$ that passes through $n+1$ points:\n",
    "* See [Chapter 3](Chapter3.ipynb)\n",
    "* **Warning**: polynomials of high degree tend to oscillate:\n",
    "    * Limit degree to 6\n",
    "    * Use local interpolation "
   ]
  },
  {
   "cell_type": "markdown",
   "metadata": {},
   "source": [
    "Interpolation methods seen in Chapter 3:\n",
    "* Lagrange \n",
    "* Newton\n",
    "\n",
    "$\\rightarrow$ Don't provide directly the coefficients of the interpolant.\n",
    "\n",
    "Two options in practice: (1) least-square fit, (2) direct interpolation.\n",
    "\n",
    "#### Least-square fit of $n+1$ points with polynomial of degree $m$\n",
    "\n",
    "* Does interpolation when $m$ = $n$\n",
    "* Robust to noisy data when $m < n$\n",
    "* Coefficients of the polynomial obtained by solving $\\textbf{Ax}$=$\\textbf{b}$, where:\n",
    "$$\n",
    "A_{kj} = \\sum_{i=0}^n x_i^{j+k} \\quad \\quad b_k = \\sum_{i=0}^n x_i^ky_i\n",
    "$$\n",
    "\n",
    "#### Direct interpolation\n",
    "\n",
    "Solve linear equations, as in Assignment 1:\n",
    "$$\n",
    "y_0 = P_n(x_0)\\\\\n",
    "y_1 = P_n(x_1) \\\\\n",
    "\\ldots\\\\\n",
    "y_n = P_n(x_n)\n",
    "$$"
   ]
  },
  {
   "cell_type": "markdown",
   "metadata": {},
   "source": [
    "#### Example\n",
    "\n",
    "5.4 in textbook (#1)"
   ]
  },
  {
   "cell_type": "markdown",
   "metadata": {},
   "source": [
    "#### Implementation"
   ]
  },
  {
   "cell_type": "code",
   "execution_count": 20,
   "metadata": {},
   "outputs": [],
   "source": [
    "### FROM CHAPTER 3\n",
    "from numpy import array\n",
    "def polynomial_fit(x_data, y_data, m):\n",
    "    '''\n",
    "    Returns the ai\n",
    "    '''\n",
    "    # x_power[i] will contain sum_i x_i^k, k = 0, 2m\n",
    "    m += 1\n",
    "    x_powers = zeros(2*m)\n",
    "    b = zeros(m)\n",
    "    for i in range(2*m):\n",
    "        x_powers[i] = sum(x_data**i)\n",
    "        if i < m:\n",
    "            b[i] = sum(y_data*x_data**i)\n",
    "    a = zeros((m, m))\n",
    "    for k in range(m):\n",
    "        for j in range(m):\n",
    "            a[k, j] = x_powers[j+k]\n",
    "    from numpy.linalg import solve # using linalg for brevity here, but we could use the solvers developed in Chap 2.\n",
    "    return solve(a, b)\n",
    "\n",
    "### FROM CHAPTER 4\n",
    "def eval_p(a, x):\n",
    "    '''\n",
    "    Returns P(x) where the coefficients of P are in a\n",
    "    '''\n",
    "    n = len(a)\n",
    "    p = a[n-1]\n",
    "    for i in range(2, n+1):\n",
    "        p = a[n-i] + x*p\n",
    "    return p"
   ]
  },
  {
   "cell_type": "code",
   "execution_count": 21,
   "metadata": {},
   "outputs": [],
   "source": [
    "def df_interpol(x_data, y_data):\n",
    "    n = len(x_data) - 1\n",
    "    coeffs = polynomial_fit(x_data, y_data, n)\n",
    "    d_coeffs = zeros(n)\n",
    "    for i in range(n):\n",
    "        d_coeffs[i] = (i+1)*coeffs[i+1] # differentiation from coefficients\n",
    "    return d_coeffs"
   ]
  },
  {
   "cell_type": "markdown",
   "metadata": {},
   "source": [
    "#### Example"
   ]
  },
  {
   "cell_type": "code",
   "execution_count": 22,
   "metadata": {},
   "outputs": [
    {
     "data": {
      "image/png": "[encoded data removed]",
      "text/plain": [
       "<Figure size 432x288 with 1 Axes>"
      ]
     },
     "metadata": {},
     "output_type": "display_data"
    }
   ],
   "source": [
    "from numpy import zeros, ones, arange, cos, sin, exp\n",
    "from math import exp as exp_m\n",
    "n = 10\n",
    "x_data = arange(n)/n # 0, 1/n, 2/n, ..., (n-1)/n \n",
    "y_data = exp(x_data) # exp' = exp\n",
    "df_poly = zeros(n)\n",
    "poly = zeros(n)\n",
    "for i in range(1, n-1):\n",
    "    # Interpolation with the 3 nearest neighbours\n",
    "    df_coeffs = df_interpol(x_data[i-1:i+2], y_data[i-1:i+2])\n",
    "    df_poly[i] = eval_p(df_coeffs, x_data[i]) #Approx by polynomial interpolation\n",
    "    \n",
    "from matplotlib import pyplot as plt\n",
    "plt.plot(x_data, y_data, '-o',\n",
    "         x_data, df_poly, '.-'\n",
    "        )\n",
    "plt.legend((\"exp(x)' = exp(x)\",\n",
    "            'd_interpolant'))\n",
    "plt.xlim(x_data[1], x_data[n-2])\n",
    "plt.show()"
   ]
  },
  {
   "cell_type": "markdown",
   "metadata": {},
   "source": [
    "### Cubic spline interpolant\n",
    "\n",
    "* Cubic splines are good interpolants due to their stiffness.\n",
    "* They are also easy to differentiate.\n",
    "\n",
    "From Equation $\\textbf{(0)}$ in [Chapter 3](Chapter3.ipynb), we get:\n",
    "\n",
    "$$\n",
    "\\forall x \\in [x_i, x_{i+1}], \\quad \\quad\n",
    "f'(x) = \\frac{z_i}{6}\\left[ \\frac{3(x-x_{i+1})^2}{x_i-x_{i+1}} - (x_i-x_{i+1}) \\right]\n",
    "        - \\frac{z_{i+1}}{6}\\left[ \\frac{3(x-x_i)^2}{x_i-x_{i+1}} - (x_i-x_{i+1}) \\right] + \\frac{y_i-y_{i+1}}{x_i-x_{i+1}}\n",
    "$$\n",
    "where $z_i$ are the curvatures returned by function "
   ]
  },
  {
   "cell_type": "markdown",
   "metadata": {},
   "source": [
    "Likewise:\n",
    "    \n",
    "$$\n",
    "\\forall x \\in [x_i, x_{i+1}], \\quad \\quad\n",
    "f_i''(x)=z_{i+1}\\frac{x-x_i}{x_{i+1}-x_i}+z_i\\frac{x_{i+1}-x}{x_{i+1}-x_i}\n",
    "$$"
   ]
  },
  {
   "cell_type": "markdown",
   "metadata": {},
   "source": [
    "#### Implementation"
   ]
  },
  {
   "cell_type": "code",
   "execution_count": 23,
   "metadata": {},
   "outputs": [],
   "source": [
    "# From Chapter 2:\n",
    "# Tridiagonal system solver\n",
    "\n",
    "def tridiag_decomp(c, d, e):\n",
    "    assert(len(c) == len(d) == len(e))\n",
    "    n = len(c)\n",
    "    for k in range(1, n):\n",
    "        lambd = c[k-1]/d[k-1]\n",
    "        d[k] -= lambd*e[k-1]\n",
    "        c[k-1] = lambd\n",
    "        \n",
    "from numpy import zeros\n",
    "def tridiag_solve(c, d, e, b): # watch out, input has to be in LU form!\n",
    "    assert(len(c) == len(d) == len(e) == len(b))\n",
    "    n = len(c)\n",
    "    # forward substitution\n",
    "    for i in range(1, n):\n",
    "        b[i] = b[i]-c[i-1]*b[i-1] # Here we use b to store y\n",
    "    # back substitution\n",
    "    b[n-1] = b[n-1]/d[n-1] # Here we use b to store x\n",
    "    for i in range (n-2, -1, -1):\n",
    "        b[i] = (b[i]-e[i]*b[i+1])/d[i]\n",
    "\n",
    "def tridiag_solver(c, d, e, b): # complete solver for tridiagonal systems\n",
    "    tridiag_decomp(c, d, e)\n",
    "    tridiag_solve(c, d, e, b)\n",
    "    \n",
    "# FROM CHAPTER 3\n",
    "def curvatures(x, y):\n",
    "    '''\n",
    "    Returns the zi\n",
    "    '''\n",
    "    assert(len(x)==len(y))\n",
    "    n = len(x) - 1\n",
    "    # Initialize arrays\n",
    "    h = zeros(n)\n",
    "    b = zeros(n)\n",
    "    u = zeros(n)\n",
    "    v = zeros(n)\n",
    "    # Compute array values\n",
    "    # Be careful, indexing of u and v is shifted (u[0] and v[0] aren't defined)\n",
    "    for i in range(n):\n",
    "        h[i] = x[i+1] - x[i]\n",
    "        b[i] = (y[i+1] - y[i])/h[i]\n",
    "        if i == 0 :\n",
    "            continue\n",
    "        u[i] = 2*(h[i-1]+h[i])\n",
    "        v[i] = 6*(b[i]-b[i-1])\n",
    "    e = h.copy() # copy h in e, since the solver will modify the lower diagnoal (c)\n",
    "    # Careful with indexing: h0 doesn't show in the system\n",
    "    tridiag_solver(h[1:n], u[1:n], e[1:n], v[1:n]) # as in Chapter 2!\n",
    "    z = zeros(n+1)\n",
    "    z[1:n] = v[1:n]\n",
    "    return z\n",
    "\n",
    "def find_segment(x, x_eval):\n",
    "        '''\n",
    "        Finds i  such that x[i] <= x_eval <= x[i+1]\n",
    "        By dichotomic search\n",
    "        '''\n",
    "        i = 0\n",
    "        j = len(x) - 1 # = n\n",
    "        assert(x_eval <= x[-1])\n",
    "        while not (x[i] <= x_eval and x_eval <= x[i+1]):\n",
    "            k = int((i+j)/2)\n",
    "            if x_eval > x[k]:\n",
    "                i = k\n",
    "            else:\n",
    "                j = k\n",
    "        return i"
   ]
  },
  {
   "cell_type": "markdown",
   "metadata": {},
   "source": [
    "#### Example\n",
    "\n",
    "5.4 in textbook (#2)"
   ]
  },
  {
   "cell_type": "code",
   "execution_count": 24,
   "metadata": {},
   "outputs": [],
   "source": [
    "### Let's do it here!"
   ]
  },
  {
   "cell_type": "code",
   "execution_count": null,
   "metadata": {},
   "outputs": [],
   "source": []
  },
  {
   "cell_type": "code",
   "execution_count": null,
   "metadata": {},
   "outputs": [],
   "source": []
  }
 ],
 "metadata": {
  "kernelspec": {
   "display_name": "Python 3",
   "language": "python",
   "name": "python3"
  },
  "language_info": {
   "codemirror_mode": {
    "name": "ipython",
    "version": 3
   },
   "file_extension": ".py",
   "mimetype": "text/x-python",
   "name": "python",
   "nbconvert_exporter": "python",
   "pygments_lexer": "ipython3",
   "version": "3.6.6"
  }
 },
 "nbformat": 4,
 "nbformat_minor": 2
}
