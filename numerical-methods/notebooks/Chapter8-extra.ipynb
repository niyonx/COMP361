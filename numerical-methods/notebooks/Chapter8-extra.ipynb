{
 "cells": [
  {
   "cell_type": "code",
   "execution_count": null,
   "metadata": {},
   "outputs": [],
   "source": []
  },
  {
   "cell_type": "markdown",
   "metadata": {},
   "source": [
    "### Material not treated in class"
   ]
  },
  {
   "cell_type": "markdown",
   "metadata": {},
   "source": [
    "#### Shooting method: Higher Order Equations\n",
    "\n",
    "Consider a fourth-order problem:\n",
    "$$\n",
    "y^{(4)} = f(x, y, y', y'', y''')\n",
    "$$\n",
    "with the boundary conditions:\n",
    "$$\n",
    "y(a) = \\alpha_1 \\quad ; \\quad y''(a) = \\alpha_2 \\quad ; \\quad y(b) = \\beta_1 \\quad ; \\quad y''(b) = \\beta_2\n",
    "$$"
   ]
  },
  {
   "cell_type": "markdown",
   "metadata": {},
   "source": [
    "To solve the problem with the shooting method, we need to more conditions at $x=a$: \n",
    "$$\n",
    "y'(a) = u_1 \\quad ; \\quad y'''(a) = u_2\n",
    "$$\n",
    "\n",
    "And we have:\n",
    "$$\n",
    "y(b) = \\theta(u_1, u_2) = \\beta_1 \\quad and \\quad y''(b) = \\theta(u_1, u_2) = \\beta_2\n",
    "$$\n",
    "\n",
    "Which we write as follows in vector form:\n",
    "$$\n",
    "\\pmb{\\theta}(\\textbf{u}) = \\pmb{\\beta}\n",
    "$$\n",
    "We solve this sytsem of equations using the Netwon-Raphson method."
   ]
  },
  {
   "cell_type": "markdown",
   "metadata": {},
   "source": [
    "#### Example 8.4\n",
    "\n",
    "Solve the following problem:\n",
    "$$\n",
    "y^{(4)} = x \\quad ; \\quad y(0) = y(1) = y''(0) = y''(1) = 0\n",
    "$$"
   ]
  },
  {
   "cell_type": "markdown",
   "metadata": {},
   "source": [
    "#### Example 8.5"
   ]
  },
  {
   "cell_type": "markdown",
   "metadata": {},
   "source": [
    "#### Finite differences: Fourth-Order Differential Equation"
   ]
  },
  {
   "cell_type": "markdown",
   "metadata": {},
   "source": [
    "For brevity, we consider the following problem:\n",
    "$$\n",
    "y^{(4)} = f(x, y, y'')\n",
    "$$\n",
    "where two boundary conditions are given at each end of the solution domain [a,b]."
   ]
  }
 ],
 "metadata": {
  "kernelspec": {
   "display_name": "Python 3",
   "language": "python",
   "name": "python3"
  },
  "language_info": {
   "codemirror_mode": {
    "name": "ipython",
    "version": 3
   },
   "file_extension": ".py",
   "mimetype": "text/x-python",
   "name": "python",
   "nbconvert_exporter": "python",
   "pygments_lexer": "ipython3",
   "version": "3.6.6"
  }
 },
 "nbformat": 4,
 "nbformat_minor": 2
}
