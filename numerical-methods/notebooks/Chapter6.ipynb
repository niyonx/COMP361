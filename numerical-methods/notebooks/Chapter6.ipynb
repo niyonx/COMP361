{
 "cells": [
  {
   "cell_type": "markdown",
   "metadata": {},
   "source": [
    "# Chapter 6: Numerical Integration\n",
    "\n",
    "Goal: given a function f(x), compute $\\int_a^bf(x)dx$.\n",
    "\n",
    "## Introduction\n",
    "\n",
    "\n",
    "Numerical integration methods approximate integrals by discrete sums:\n",
    "\n",
    "$$\n",
    "\\int_a^bf(x)dx \\approx \\sum_{i=0}^nA_if(x_i) = I\n",
    "$$\n",
    "\n",
    "The $x_i$ are called *nodal abscissa* and $A_i$ are called *weights*.\n",
    "\n",
    "This process is also called *quadradure*.\n",
    "\n"
   ]
  },
  {
   "cell_type": "markdown",
   "metadata": {},
   "source": [
    "## Newton-Cotes Formulas\n",
    "\n",
    "The range $[a, b]$ is divided into $n$ **equal** intervals of length h = (b-a)/n.\n",
    "\n",
    "$f$ is approximated by the polynomial of degree $n$ that interpolates the ($x_i$, $f(x_i)$)."
   ]
  },
  {
   "cell_type": "code",
   "execution_count": 120,
   "metadata": {},
   "outputs": [
    {
     "data": {
      "image/png": "[encoded data removed]",
      "text/plain": [
       "<Figure size 432x288 with 1 Axes>"
      ]
     },
     "metadata": {},
     "output_type": "display_data"
    }
   ],
   "source": [
    "from numpy import arange, array\n",
    "from matplotlib import pyplot as plt\n",
    "from scipy.interpolate import lagrange\n",
    "\n",
    "x = arange(5)\n",
    "y = array([1, 2.5, 3.2, 2.1, 6])\n",
    "plt.plot(x, y, 'o')\n",
    "\n",
    "poly = lagrange(x, y)\n",
    "xfine = arange(0, 5, 0.1)\n",
    "yfine = poly(xfine)\n",
    "plt.plot(xfine, yfine)\n",
    "plt.annotate(\"$P_n(x)$\", xy=(2.5, 3.5))\n",
    "plt.annotate(s='', xy=(2.5, 3.4), xytext=(2.5,2.8), arrowprops=dict(arrowstyle='<-'))\n",
    "for i in range(5):\n",
    "    plt.plot([x[i], x[i]], [0, y[i]], '--', color='gray')\n",
    "plt.annotate(s='', xy=(x[1], 1), xytext=(x[2],1), arrowprops=dict(arrowstyle='<->'))\n",
    "plt.annotate(\"h\", xy=(1.5, 1.1))\n",
    "\n",
    "xtics = array([\"$x_0=a$\", \"$x_1$\", \"$x_{...}$\", \"$x_{n-1}$\", \"$x_n=b$\"])\n",
    "ytics = array([\"$f(x_0)$\", \"$f(x_1)$\", \"$f(x_{,,,})$\", \"$f(x_{n-1})$\", \"$f(x_n)$\"])\n",
    "plt.xticks(x, xtics)\n",
    "plt.yticks(y, ytics)\n",
    "plt.xlim(-0.2,4.2)\n",
    "plt.ylim(0,6.2)\n",
    "plt.show()\n",
    "#plt.xtics(values, xticks)\n",
    "\n",
    "plt.show()"
   ]
  },
  {
   "cell_type": "markdown",
   "metadata": {},
   "source": [
    "Using Lagrange's expression:\n",
    "\n",
    "$$\n",
    "P_n(x) = \\sum_{i=0}^n{f(x_i)l_i(x)}\n",
    "$$\n",
    "\n",
    "where:\n",
    "$$\n",
    "l_i(x) = \\prod_{j=0 \\\\ j \\neq i}^n \\frac{(x-x_j)}{x_i-x_j}\n",
    "$$"
   ]
  },
  {
   "cell_type": "markdown",
   "metadata": {},
   "source": [
    "Therefore:\n",
    "\n",
    "$$\n",
    "I = \\sum_{i=0}^n \\left(\\int_a^bl_i(x)dx\\right) f(x_i) \\quad \\textbf{(1)}\n",
    "$$\n",
    "\n",
    "that is:\n",
    "$$\n",
    "A_i = \\int_a^bl_i(x)dx\\quad i=0, 1, \\ldots, n \\quad \\textbf{(2)}\n",
    "$$\n",
    "\n",
    "Equations $\\textbf{(1)}$ and $\\textbf{(2)}$ are called the *Newton-Cotes formulas*. Special cases:\n",
    "* n=1: Trapezoidal rule\n",
    "* n=2: Simpson's rule\n",
    "\n"
   ]
  },
  {
   "cell_type": "markdown",
   "metadata": {},
   "source": [
    "### Trapezoidal rule\n",
    "\n",
    "If n = 1, we have: \n",
    "$$\n",
    "l_0(x) = \\frac{(x-x_1)}{(x_0-x_1)} \\quad \\mathrm{and} \\quad l_1(x) = \\frac{(x-x_0)}{(x_1-x_0)}\n",
    "$$\n",
    "and:\n",
    "$$\n",
    "x_0 = a \\quad \\mathrm{and} \\quad x_1 = b\n",
    "$$\n",
    "which gives:\n",
    "$$\n",
    "A_0 = A_1 = \\frac{b-a}{2} = \\frac{h}{2}\n",
    "$$\n",
    "\n",
    "Thus:\n",
    "$$\n",
    "I = \\frac{h}{2} \\left[ f(a) + f(b) \\right]\n",
    "$$\n",
    "This is called the *Trapezoidal Rule*."
   ]
  },
  {
   "cell_type": "code",
   "execution_count": 112,
   "metadata": {},
   "outputs": [
    {
     "data": {
      "image/png": "[encoded data removed]",
      "text/plain": [
       "<Figure size 432x288 with 1 Axes>"
      ]
     },
     "metadata": {},
     "output_type": "display_data"
    }
   ],
   "source": [
    "from numpy import arange, array\n",
    "from matplotlib import pyplot as plt\n",
    "from scipy.interpolate import lagrange\n",
    "\n",
    "x = arange(5)\n",
    "y = array([1, 2.5, 3.2, 2.1, 6])\n",
    "#plt.plot(x, y, 'o')\n",
    "\n",
    "line = lagrange([0, 4], [1, 6])\n",
    "xfine = arange(0, 5, 0.1)\n",
    "yfine = line(xfine)\n",
    "plt.plot(xfine, yfine)\n",
    "\n",
    "poly = lagrange(x, y)\n",
    "f = poly(xfine)\n",
    "plt.plot(xfine, f)\n",
    "plt.annotate(\"$f(x)$\", xy=(2.5, 3.5))\n",
    "plt.annotate(s='', xy=(2.5, 3.4), xytext=(2.5,2.8), arrowprops=dict(arrowstyle='<-'))\n",
    "plt.annotate(s='', xy=(x[0], 1), xytext=(x[4],1), arrowprops=dict(arrowstyle='<->'))\n",
    "plt.annotate(\"h\", xy=(2.5, 1.1))\n",
    "plt.plot([0, 0], [0, y[0]], '--', color='gray')\n",
    "plt.plot([4, 4], [0, y[4]], '--', color='gray')\n",
    "area = plt.Polygon([(0,0), (0, y[0]), (4, y[4]), (4,0), (0,0)], closed=True, color='#EEEEEE')\n",
    "plt.gca().add_patch(area)\n",
    "xtics = array([\"$x_0=a$\", \"$x_1=b$\"])\n",
    "plt.xticks([0, 4], xtics)\n",
    "plt.xlim(-0.2,4.2)\n",
    "plt.ylim(0,6.2)\n",
    "plt.show()\n",
    "#plt.xtics(values, xticks)\n",
    "\n",
    "plt.show()"
   ]
  },
  {
   "cell_type": "markdown",
   "metadata": {},
   "source": [
    "#### Error\n",
    "\n",
    "The approximation error is obtained by integrating the interpolation error.\n",
    "\n",
    "It has the following form:\n",
    "\n",
    "$$\n",
    "E = \\int_a^b{f(x)dx} - I = -\\frac{h^3}{12}f''(\\xi)\n",
    "$$  \n",
    "Approximation is exact if f is a polynomial of degree 1 or a constant."
   ]
  },
  {
   "cell_type": "markdown",
   "metadata": {},
   "source": [
    "#### Example (Trapezoidal rule)\n",
    "\n",
    "Approximate $\\int_0^1x^2dx = 1/3$ using the trapezoidal rule."
   ]
  },
  {
   "cell_type": "markdown",
   "metadata": {},
   "source": [
    "### Composite Trapezoidal Rule\n",
    "\n",
    "In practice the Trapezoidal Rule is applied in a piece-wise way on $n$ panels:\n",
    "$$\n",
    "I = \\sum_{i=0}^{n-1}I_i \\quad \\mathrm{and} \\quad I_i = \\frac{h}{2} \\left[ f(x_i) + f(x_{i+1})\\right]\n",
    "$$\n",
    "It gives:\n",
    "$$\n",
    "I = \\frac{h}{2}\\left[ f(x_0) + 2f(x_1) + 2 f(x_2) + \\ldots + 2f(x_{n-1}) + f(x_n) \\right] \\quad \\textbf{(3)}\n",
    "$$\n",
    "This is the *composite Trapezoidal Rule*."
   ]
  },
  {
   "cell_type": "code",
   "execution_count": 119,
   "metadata": {},
   "outputs": [
    {
     "data": {
      "image/png": "[encoded data removed]",
      "text/plain": [
       "<Figure size 432x288 with 1 Axes>"
      ]
     },
     "metadata": {},
     "output_type": "display_data"
    }
   ],
   "source": [
    "from numpy import arange, array\n",
    "from matplotlib import pyplot as plt\n",
    "from scipy.interpolate import lagrange\n",
    "\n",
    "x = arange(5)\n",
    "y = array([1, 2.5, 3.2, 2.1, 6])\n",
    "#plt.plot(x, y, 'o')\n",
    "\n",
    "xfine = arange(0, 5, 0.1)\n",
    "\n",
    "\n",
    "poly = lagrange(x, y)\n",
    "f = poly(xfine)\n",
    "plt.plot(xfine, f)\n",
    "plt.annotate(\"$f(x)$\", xy=(2.5, 3.5))\n",
    "\n",
    "for i in range(4):\n",
    "    xfine = arange(x[i], x[i+1], 0.01)\n",
    "    line = lagrange([x[i], x[i+1]], [y[i], y[i+1]])\n",
    "    yfine = line(xfine)\n",
    "    plt.plot(xfine, yfine)\n",
    "    area = plt.Polygon([(x[i],0), (x[i], y[i]), (x[i+1], y[i+1]), (x[i+1],0), (x[i],0)], closed=True, color='#EEEEEE')\n",
    "    plt.gca().add_patch(area)\n",
    "    plt.plot([x[i], x[i]],[0, y[i]], '--', color='gray')\n",
    "\n",
    "plt.annotate(s='', xy=(2.5, 3.4), xytext=(2.5,2.8), arrowprops=dict(arrowstyle='<-'))\n",
    "plt.annotate(s='', xy=(x[2], 1), xytext=(x[3],1), arrowprops=dict(arrowstyle='<->'))\n",
    "plt.annotate(\"h\", xy=(2.5, 1.1))\n",
    "\n",
    "plt.plot([0, 0], [0, y[0]], '--', color='gray')\n",
    "plt.plot([4, 4], [0, y[4]], '--', color='gray')\n",
    "xtics = array([\"$x_0=a$\", \"$x_1=b$\"])\n",
    "plt.xticks([0, 4], xtics)\n",
    "plt.xlim(-0.2,4.2)\n",
    "plt.ylim(0,6.2)\n",
    "plt.show()\n",
    "#plt.xtics(values, xticks)\n",
    "\n",
    "plt.show()"
   ]
  },
  {
   "cell_type": "markdown",
   "metadata": {},
   "source": [
    "#### Error\n",
    "\n",
    "The error becomes:\n",
    "\n",
    "$$\n",
    "E = - \\frac{(b-a)h^2}{12}f''(\\xi)\n",
    "$$\n",
    "\n",
    "We can reduce the error by reducing h."
   ]
  },
  {
   "cell_type": "markdown",
   "metadata": {},
   "source": [
    "#### Example (Composite Trapezoidal Rule)\n",
    "\n",
    "Approximate $\\int_0^1x^2dx = 1/3$ using the composite trapezoidal rule with 3 panels."
   ]
  },
  {
   "cell_type": "markdown",
   "metadata": {},
   "source": [
    "#### Implementation"
   ]
  },
  {
   "cell_type": "code",
   "execution_count": 121,
   "metadata": {},
   "outputs": [],
   "source": [
    "from numpy import arange\n",
    "def trapezoid(f, a, b, n):\n",
    "    '''\n",
    "    Integrates f between a and b using n panels (n+1 points)\n",
    "    '''\n",
    "    h = (b-a)/n\n",
    "    x = a+h*arange(n+1)\n",
    "    I = f(x[0])/2\n",
    "    for i in range(1, n):\n",
    "        I += f(x[i])\n",
    "    I += f(x[n])/2\n",
    "    return h*I"
   ]
  },
  {
   "cell_type": "code",
   "execution_count": 122,
   "metadata": {},
   "outputs": [
    {
     "data": {
      "text/plain": [
       "0.35185185185185186"
      ]
     },
     "execution_count": 122,
     "metadata": {},
     "output_type": "execute_result"
    }
   ],
   "source": [
    "def f(x):\n",
    "    return x**2\n",
    "trapezoid(f, 0, 1, 3)"
   ]
  },
  {
   "cell_type": "markdown",
   "metadata": {},
   "source": [
    "### Recursive Trapezoidal Rule\n",
    "\n",
    "Let $I_k$ the integral evaluated using $2^{k-1}$ panels with the composite trapezoidal rule. Let $H=b-a$.\n",
    "\n",
    "Equation $\\mathrm{\\textbf{(3)}}$ gives:\n",
    "* k=1 (1 panel):\n",
    "$$\n",
    "I_1 = \\frac{H}{2}\\left[ f(a) + f(b) \\right]\n",
    "$$\n"
   ]
  },
  {
   "cell_type": "markdown",
   "metadata": {},
   "source": [
    "* k=2 (2 panels):\n",
    "$$\n",
    "I_2 = \\frac{H}{4} \\left[ f(a) + 2f\\left(a+\\frac{H}{2}\\right) + f(b) \\right] = \\frac{1}{2}I_1 + \\frac{H}{2}f\\left(a+\\frac{H}{2}\\right)\n",
    "$$"
   ]
  },
  {
   "cell_type": "markdown",
   "metadata": {},
   "source": [
    "* k=3 (4 panels):\n",
    "$$\n",
    "I_3 = \\frac{H}{8} \\left[ f(a) + 2f\\left(a+\\frac{H}{4}\\right) + 2f\\left(a+\\frac{H}{2}\\right) + 2f\\left(a+3\\frac{H}{4}\\right) + f(b)\\right] \\\\\n",
    "    = \\frac{1}{2}I_2 + \\frac{H}{4}\\left[ f\\left( a + \\frac{H}{4}\\right) + f\\left(a+3\\frac{H}{4} \\right) \\right]\n",
    "$$"
   ]
  },
  {
   "cell_type": "markdown",
   "metadata": {},
   "source": [
    "* For k > 1 we have the following recurrence:\n",
    "$$\n",
    "I_k = \\frac{1}{2}I_{k-1} + \\frac{H}{2^{k-1}} \\sum_{i=1}^{2^{k-2}} f\\left( a + \\frac{(2i-1)H}{2^{k-1}} \\right)\n",
    "$$"
   ]
  },
  {
   "cell_type": "markdown",
   "metadata": {},
   "source": [
    "Simpler form to remember:\n",
    "$$\n",
    "I(h) = \\frac{1}{2}I(2h)+h\\sum{f(x_{\\mathrm{new}})}\n",
    "$$\n",
    "where $h=H/n$ is the width of each panel."
   ]
  },
  {
   "cell_type": "markdown",
   "metadata": {},
   "source": [
    "Notes:\n",
    "* The recursive rule allows to iterate until a desired accuracy $|I_k - I_{k-1}|$ is reached.\n",
    "* Using the recursive rule doesn't add operations compared to using Equation $\\textbf{(3)}$ directly.\n",
    "    "
   ]
  },
  {
   "cell_type": "markdown",
   "metadata": {},
   "source": [
    "### Implementation"
   ]
  },
  {
   "cell_type": "code",
   "execution_count": 127,
   "metadata": {},
   "outputs": [],
   "source": [
    "def trapezoid_rec(f, a, b, tol=10E-12, max_iters=100):\n",
    "    '''\n",
    "    Integrates f between a and b using the recursive rule,\n",
    "    until an accuracy of tol is reached.\n",
    "    '''\n",
    "    n = 1\n",
    "    I = (b-a)/2*(f(a)+f(b)) # trapezoid with 1 panel\n",
    "    bound = 1\n",
    "    for k in range(2, max_iters):\n",
    "        s = 0\n",
    "        for i in range(1, bound+1):\n",
    "            s += f(a+((2*i-1)*(b-a))/(2*bound))  # bound is 2**(k-2)\n",
    "        bound *= 2  # now bound is 2**(k-1)\n",
    "        J = 1/2*I + (b-a)/bound*s\n",
    "        if abs(J-I) < tol:\n",
    "            print(\"Used {} panels\".format(k))\n",
    "            return J\n",
    "        I = J\n",
    "    raise Exception(\"Did not converge!\")"
   ]
  },
  {
   "cell_type": "code",
   "execution_count": 128,
   "metadata": {},
   "outputs": [
    {
     "name": "stdout",
     "output_type": "stream",
     "text": [
      "Used 19 panels\n"
     ]
    },
    {
     "data": {
      "text/plain": [
       "0.33333333333575865"
      ]
     },
     "execution_count": 128,
     "metadata": {},
     "output_type": "execute_result"
    }
   ],
   "source": [
    "trapezoid_rec(lambda x: x**2, 0, 1)"
   ]
  },
  {
   "cell_type": "markdown",
   "metadata": {},
   "source": [
    "#### Example 6.4\n",
    "\n",
    "Use the recursive trapezoidal rule to evaluate $\\int_0^{\\pi}\\sqrt{x}\\cos(x)dx$ to six decimal places. How many panels were needed to achieve this result?"
   ]
  },
  {
   "cell_type": "code",
   "execution_count": 133,
   "metadata": {},
   "outputs": [
    {
     "name": "stdout",
     "output_type": "stream",
     "text": [
      "Used 29 panels\n"
     ]
    },
    {
     "data": {
      "text/plain": [
       "-0.8948314694847712"
      ]
     },
     "execution_count": 133,
     "metadata": {},
     "output_type": "execute_result"
    }
   ],
   "source": [
    "from math import sqrt, cos, pi\n",
    "def f(x):\n",
    "    return sqrt(x)*cos(x)\n",
    "\n",
    "trapezoid_rec(f, 0, pi, 1E-12)"
   ]
  },
  {
   "cell_type": "markdown",
   "metadata": {},
   "source": [
    "### Simpson's Rule\n",
    "\n",
    "Simpson's rule can be obtained from Newton-Cotes formulas with n=2. \n",
    "\n",
    "It integrates the parabolic interpolant through three adjacent nodes."
   ]
  },
  {
   "cell_type": "markdown",
   "metadata": {},
   "source": [
    "The area under the parabola is given by:\n",
    "$$\n",
    "I = \\frac{h}{3}\\left[ f(a) + 4f\\left(\\frac{a+b}{2}\\right) + f(b)\\right]\n",
    "$$"
   ]
  },
  {
   "cell_type": "markdown",
   "metadata": {},
   "source": [
    "The *composite* Simpson's rule is obtained by grouping panels 2 by 2 and computing $I$ on each group of 2 adjacent panels:\n",
    "$$\n",
    "I = \\sum_{i=0,2,\\ldots}^{n-2}{\\int_{x_i}^{x_{i+2}}{f(x)dx}}\n",
    "$$\n",
    "TYPO IN THE TEXTBOOK"
   ]
  },
  {
   "cell_type": "markdown",
   "metadata": {},
   "source": [
    "which gives Simpson's 1/3 rule:\n",
    "$$\n",
    "I = \\frac{h}{3} \\left[ f(x_0) + 4f(x_1) + 2f(x_2) + 4f(x_3) + \\ldots + 2f(x_{n-2}) + 4f(x_{n-1}) + f(x_n)\\right]\n",
    "$$"
   ]
  },
  {
   "cell_type": "markdown",
   "metadata": {},
   "source": [
    "#### Error\n",
    "\n",
    "Error has the following form:\n",
    "$$\n",
    "E = \\frac{(b-a)h^4}{180}f^{(4)}(\\xi)\n",
    "$$\n",
    "Rule is exact if $f(x)$ is a polynomial of degree 3 or less. It reduces when h reduces."
   ]
  },
  {
   "cell_type": "markdown",
   "metadata": {},
   "source": [
    "#### Example 6.3 (minus one point)"
   ]
  },
  {
   "cell_type": "markdown",
   "metadata": {},
   "source": [
    "## Gauss-Legendre Quadrature\n",
    "\n",
    "Gauss-Legendre integration formulas have the same form as Newton-Cotes rules:\n",
    "\n",
    "$$\n",
    "I = \\sum_{i=0}^nA_if(x_i)\n",
    "$$\n",
    "\n",
    "But the $A_i$ and $x_i$ are chosen differently:\n",
    "1. $x_i$ are usually not evenly-spaced\n",
    "2. $A_i$ are chosen so that $I$ is the exact integral if $f(x)$ is a polynomial of degree $2n+1$ or less:\n",
    "$$\n",
    "\\int_a^bf(x)dx = \\int_a^bP_m(x)dx = \\sum_{i=0}^nA_iP_m(x_i) \\quad m \\leq 2n+1\n",
    "$$\n",
    "\n",
    "For now we assume that a=-1 and b=1.\n"
   ]
  },
  {
   "cell_type": "markdown",
   "metadata": {},
   "source": [
    "### n = 1 (Gauss-Legendre quadrature with 2 nodes)\n",
    "\n",
    "Gauss-Legendre quadrature is written as:\n",
    "$$\n",
    "\\int_{-1}^1f(x)dx \\approx A_0f(x_0) + A_1f(x_1)\n",
    "$$\n",
    "$A_0$, $A_1$, $x_0$ and $x_1$ are chosen so that **the quadrature is exact for polynomials of degree 3**:\n",
    "$$\n",
    "\\int_{-1}^1dx = A_0 + A_1\n",
    "$$\n",
    "$$\n",
    "\\int_{-1}^1xdx = A_0x_0 + A_1x_1\n",
    "$$\n",
    "$$\n",
    "\\int_{-1}^1x^2dx = A_0x_0^2 + A_1x_1^2\n",
    "$$\n",
    "$$\n",
    "\\int_{-1}^1x^3dx = A_0x_0^3 + A_1x_1^3\n",
    "$$\n",
    "\n"
   ]
  },
  {
   "cell_type": "markdown",
   "metadata": {},
   "source": [
    "We obtain:\n",
    "$$\n",
    "A_0 = A_1 = 1  \\\\\n",
    "x_0 = -x_1 = \\frac{1}{\\sqrt{3}}\n",
    "$$"
   ]
  },
  {
   "cell_type": "markdown",
   "metadata": {},
   "source": [
    "#### Example (2-node Gauss-Legendre)\n",
    "\n",
    "Use the two-node Gauss-Legendre formula to approximate:\n",
    "$$\n",
    "\\int_{-1}^1\\frac{dx}{x+2} = \\ln(3) - \\ln(1) \\approx 1.09861\n",
    "$$"
   ]
  },
  {
   "cell_type": "markdown",
   "metadata": {},
   "source": [
    "### n > 1\n",
    "\n",
    "The same procedure can be applied with larger values of $n$.\n",
    "\n",
    "$A_i$ and $x_i$, $i=0,\\ldots, n$ ($2n+2$ unknowns) are chosen so that **the quadrature is exact for polynomials of degree $2n+1$** ($2n+2$ equations).\n",
    "\n",
    "It turns out that:\n",
    "* the nodes $x_i$ are always arranged symmetrically about 0,\n",
    "* the weights $A_i$ associated with a symmetric pair of nodes are equal.\n",
    "\n",
    "We get:\n",
    "\n",
    "| n | $x_i$ | $A_i$| Error | \n",
    "|---|:--------------------------:|------|---|\n",
    "| 1 | $\\pm\\frac{1}{\\sqrt{3}}$ | 1 | $\\frac{f^{(4)}(\\xi)}{135}$\n",
    "| 2 | 0 ; $\\pm \\sqrt{\\frac{3}{5}}$   | $\\frac{8}{9}$ ; $\\frac{5}{9}$  | $\\frac{f^{(6)}(\\xi)}{15,750}$\n",
    "| 3 | $\\pm \\sqrt{\\frac{3}{7}-\\frac{2}{7}\\sqrt{\\frac{6}{5}}} \\\\ \\pm \\sqrt{\\frac{3}{7}+\\frac{2}{7}\\sqrt{\\frac{6}{5}}}$ | $\\frac{18+\\sqrt{30}}{36} \\\\ \\frac{18-\\sqrt{30}}{36}$ | $\\frac{f^{(8)}(\\xi)}{3,472,875}$\n"
   ]
  },
  {
   "cell_type": "markdown",
   "metadata": {},
   "source": [
    "### Integration on [a, b]\n",
    "\n",
    "So far we have only integrated on [-1, 1]. Integration on [a, b] is obtained by the following change of variable:\n",
    "\n",
    "$$\n",
    "t = \\frac{a+b}{2} + \\frac{b-a}{2}x\n",
    "$$\n",
    "\n",
    "It gives:\n",
    "\n",
    "$$\n",
    "\\int_{a}^bf(t)dt = \\frac{b-a}{2} \\int_{-1}^1f\\left(\\frac{a+b}{2} + \\frac{b-a}{2}x\\right)dx\n",
    "$$"
   ]
  },
  {
   "cell_type": "markdown",
   "metadata": {},
   "source": [
    "#### Example (Gauss-Legendre translation)\n",
    "\n",
    "Use three-point Gauss-Legendre rule to approximate:\n",
    "$$\n",
    "\\int_1^5 \\frac{dt}{t} = \\ln(5) - \\ln(1) \\approx 1.609\n",
    "$$"
   ]
  },
  {
   "cell_type": "markdown",
   "metadata": {},
   "source": [
    "### Other types of Gauss quadratures"
   ]
  },
  {
   "cell_type": "markdown",
   "metadata": {},
   "source": [
    "The Gauss-Legendre quadrature finds $x_i$ and $A_i$ such that the quadrature is exact for a polynomial of degree $2n+1$. \n",
    "\n",
    "Other types of Gauss quadratures find $x_i$ and $A_i$ such that the quadrature is exact for $w(x)P(x)$, where $P$ is a polynomial of degree $2n+1$, that is:\n",
    "\n",
    "$$\n",
    "\\int_a^bw(x)P(x) = \\sum_{i=0}^n A_iP(x_i)\n",
    "$$"
   ]
  },
  {
   "cell_type": "markdown",
   "metadata": {},
   "source": [
    "The $A_i$ and $x_i$ are tabulated for following types of Gauss quadratures:\n",
    "\n",
    "| Name    | w(x) | a | b | \n",
    "|---------|------|---|---|\n",
    "|Legendre | 1    | -1| 1 |\n",
    "|Chebyshev| $(1-x^2)^{-1/2}$ | -1 | 1 |\n",
    "|Laguerre | $e^{-x}$ | 0 | $\\infty$|\n",
    "|Hermitte | $e^{-x^2}$ | -$\\infty$ | $\\infty$|\n",
    "\n",
    "These types of Gaussian quadratures are associated with *orthogonal polynomials*.\n",
    "\n",
    "For different w(x) functions, the $x_i$ and $A_i$ can be found as we did for Gauss-Legendre, by solving $2n+2$ non-linear equations."
   ]
  },
  {
   "cell_type": "code",
   "execution_count": null,
   "metadata": {},
   "outputs": [],
   "source": []
  }
 ],
 "metadata": {
  "kernelspec": {
   "display_name": "Python 3",
   "language": "python",
   "name": "python3"
  },
  "language_info": {
   "codemirror_mode": {
    "name": "ipython",
    "version": 3
   },
   "file_extension": ".py",
   "mimetype": "text/x-python",
   "name": "python",
   "nbconvert_exporter": "python",
   "pygments_lexer": "ipython3",
   "version": "3.6.6"
  }
 },
 "nbformat": 4,
 "nbformat_minor": 2
}
