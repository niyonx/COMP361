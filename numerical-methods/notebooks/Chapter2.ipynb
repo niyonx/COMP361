{
 "cells": [
  {
   "cell_type": "markdown",
   "metadata": {
    "slideshow": {
     "slide_type": "slide"
    }
   },
   "source": [
    "# Chapter 2: Systems of Linear Algebraic Equations\n",
    "\n",
    "*Warning:* This is a critical chapter of the course.\n",
    "\n",
    "## 2.1 Introduction\n",
    "\n",
    "### Notation\n",
    "\n",
    "A system of linear algebraic equations is written as follows:\n",
    "\n",
    "$$\n",
    "A_{11}x_1 + A_{12}x_2 + \\ldots + A_{1n}x_n = b_1\\\\\n",
    "A_{21}x_1 + A_{22}x_2 + \\ldots + A_{2n}x_n = b_2\\\\\n",
    ".\\\\\n",
    ".\\\\\n",
    ".\\\\\n",
    "A_{n1}x_1 + A_{n2}x_2 + \\ldots + A_{nn}x_n = b_n\n",
    "$$\n",
    "\n",
    "where $x_i$ are the unknowns."
   ]
  },
  {
   "cell_type": "markdown",
   "metadata": {
    "slideshow": {
     "slide_type": "slide"
    }
   },
   "source": [
    "It can be represented as $\\textbf{Ax}=\\textbf{b}$, where A is an $n \\times n$ matrix, $\\textbf{x}$ is a vector of n unknowns and $\\textbf{b}$ is a vector of $n$ constants:\n",
    "\n",
    "$$\n",
    "    \\begin{bmatrix}\n",
    "        A_{11} & A_{12} & ... & A_{1n} \\\\\n",
    "        A_{21} & A_{22} & ... & A_{2n} \\\\\n",
    "        ...    & ...    & ... & ...    \\\\\n",
    "        A_{n1} & A_{n2} & ... & A_{nn}\n",
    "    \\end{bmatrix}\n",
    "    \\begin{bmatrix}\n",
    "    x_1\\\\\n",
    "    x_2\\\\\n",
    "    ...\\\\\n",
    "    x_n\n",
    "    \\end{bmatrix}\n",
    "    =\n",
    "    \\begin{bmatrix}\n",
    "    b_1\\\\\n",
    "    b_2\\\\\n",
    "    ...\\\\\n",
    "    b_n\n",
    "    \\end{bmatrix}\n",
    "$$\n",
    "\n",
    "It is also sometimes written using the *augmented form* combining $\\textbf{A}$ and $\\textbf{b}$ in a single matrix:\n",
    "$$\n",
    "\\left[\n",
    "\\begin{array}{cccc|c}\n",
    " A_{11} & A_{12} & ... & A_{1n} & b_{1}\\\\\n",
    "        A_{21} & A_{22} & ... & A_{2n} & b_{2} \\\\\n",
    "        ...    & ...    & ... & ...    & ... \\\\\n",
    "        A_{n1} & A_{n2} & ... & A_{nn} & b_{n}\n",
    "\\end{array}\n",
    "\\right]\n",
    "$$\n"
   ]
  },
  {
   "cell_type": "markdown",
   "metadata": {
    "slideshow": {
     "slide_type": "slide"
    }
   },
   "source": [
    "Let's do a brief [recap on linear algebra](Matrix-algebra.ipynb)..."
   ]
  },
  {
   "cell_type": "markdown",
   "metadata": {
    "slideshow": {
     "slide_type": "slide"
    }
   },
   "source": [
    "### Existence and Uniqueness of Solution\n",
    "\n",
    "A system of $n$ linear algebraic equations has a unique solution if and only if $\\textbf{A}$ is *nonsingular*, that is: det($\\textbf{A}$) $\\neq$ 0.\n",
    "\n",
    "If $\\textbf{A}$ is singular, the system has no solution or an infinite number of solutions."
   ]
  },
  {
   "cell_type": "markdown",
   "metadata": {
    "slideshow": {
     "slide_type": "fragment"
    }
   },
   "source": [
    "#### Exercice 2.1.2 (in class)\n",
    "\n",
    "* Find examples of 2x2 matrices with a zero determinant.\n",
    "* Find examples of systems with (1) no solution, (2) an infinite number of solutions."
   ]
  },
  {
   "cell_type": "markdown",
   "metadata": {},
   "source": [
    "[A few more words on linear algebra](Matrix-algebra.ipynb)..."
   ]
  },
  {
   "cell_type": "markdown",
   "metadata": {
    "slideshow": {
     "slide_type": "slide"
    }
   },
   "source": [
    "### Conditioning\n",
    "\n",
    "When the determinant of $\\textbf{A}$ is \"very small\", small changes in the matrix result in large changes in the solution. In this case, the solution $\\underline{\\mathrm{cannot\\ be\\ trusted}}$.\n",
    "\n",
    "The *condition number* of a matrix is defined as:\n",
    "\n",
    "$$\n",
    "\\mathrm{cond}(\\textbf{A}) = ||\\textbf{A}||.||\\textbf{A}^{-1}||\n",
    "$$\n",
    "\n",
    "If the condition number is close to unity, the matrix is well conditioned. On the contrary, a matrix with a large condition number is said to be $\\underline{\\mathrm{ill-conditioned}}$.\n",
    "\n",
    "Let's write a function to compute the condition number of a matrix:"
   ]
  },
  {
   "cell_type": "code",
   "execution_count": null,
   "metadata": {
    "slideshow": {
     "slide_type": "slide"
    }
   },
   "outputs": [],
   "source": [
    "def norm(a): # infinity norm\n",
    "    n = 0\n",
    "    for row in a:\n",
    "        s = sum(abs(row))\n",
    "        if s > n:\n",
    "            n = s\n",
    "    return n\n",
    "                \n",
    "def condition(a):\n",
    "    from numpy.linalg import inv # this is cheating :), we'll see later how to compute the inverse of a matrix\n",
    "    return norm(a)*norm(inv(a))"
   ]
  },
  {
   "cell_type": "markdown",
   "metadata": {
    "slideshow": {
     "slide_type": "slide"
    }
   },
   "source": [
    "And let's compute the condition number of the following matrix:\n",
    "\n",
    "$$\n",
    "\\textbf{A}=\n",
    "\\begin{bmatrix}\n",
    "        1 & -1.001 \\\\\n",
    "        2.001 & -2  \n",
    "    \\end{bmatrix}\n",
    "$$\n",
    "\n",
    "Using our function:"
   ]
  },
  {
   "cell_type": "code",
   "execution_count": null,
   "metadata": {
    "slideshow": {
     "slide_type": "fragment"
    }
   },
   "outputs": [],
   "source": [
    "from numpy import array\n",
    "a = array([[1, -1.001], [2.001, -2]])\n",
    "condition(a)"
   ]
  },
  {
   "cell_type": "markdown",
   "metadata": {
    "slideshow": {
     "slide_type": "fragment"
    }
   },
   "source": [
    "And using numpy:"
   ]
  },
  {
   "cell_type": "code",
   "execution_count": null,
   "metadata": {
    "slideshow": {
     "slide_type": "fragment"
    }
   },
   "outputs": [],
   "source": [
    "from numpy import inf\n",
    "from numpy.linalg import cond\n",
    "cond(a, p=inf)"
   ]
  },
  {
   "cell_type": "markdown",
   "metadata": {
    "slideshow": {
     "slide_type": "slide"
    }
   },
   "source": [
    "In practice, computing $\\textbf{A}^{-1}$ is expensive. Conditioning is often gauged by comparing the determinant with the magnitude of the elements in the matrix: if the determinant is small compared to the elements of the matrix, the matrix will be gauged *ill-conditioned*."
   ]
  },
  {
   "cell_type": "markdown",
   "metadata": {
    "slideshow": {
     "slide_type": "slide"
    }
   },
   "source": [
    "#### Exercice: Effect of ill-conditioning on solutions.\n",
    "\n",
    "1. Solve the linear system defined by $\\textbf{Ax}$=$\\textbf{b}$, where:\n",
    "$\n",
    "\\textbf{A}=\n",
    "\\begin{bmatrix}\n",
    "        1 & -1.001 \\\\\n",
    "        2.001 & -2  \n",
    "    \\end{bmatrix}\n",
    "$\n",
    "and\n",
    "$\n",
    "\\textbf{b}=\n",
    "\\begin{bmatrix}\n",
    "        3 \\\\\n",
    "        7  \n",
    "    \\end{bmatrix}\n",
    "$\n"
   ]
  },
  {
   "cell_type": "code",
   "execution_count": null,
   "metadata": {
    "slideshow": {
     "slide_type": "fragment"
    }
   },
   "outputs": [],
   "source": [
    "from numpy import array\n",
    "from numpy.linalg import solve # let's cheat for now, we'll program this in the next section\n",
    "\n",
    "a = array([[1, -1.001], [2.001, -2]])\n",
    "b = array([3, 7])\n",
    "solve(a, b)"
   ]
  },
  {
   "cell_type": "markdown",
   "metadata": {
    "slideshow": {
     "slide_type": "slide"
    }
   },
   "source": [
    "2. Solve the linear system defined by $\\textbf{Ax}$=$\\textbf{b}$, where:\n",
    "$\n",
    "\\textbf{A}=\n",
    "\\begin{bmatrix}\n",
    "        1 & -1.002 \\\\\n",
    "        2.002 & -2  \n",
    "    \\end{bmatrix}\n",
    "$\n",
    "and\n",
    "$\n",
    "\\textbf{b}=\n",
    "\\begin{bmatrix}\n",
    "        3 \\\\\n",
    "        7  \n",
    "    \\end{bmatrix}\n",
    "$"
   ]
  },
  {
   "cell_type": "code",
   "execution_count": null,
   "metadata": {
    "slideshow": {
     "slide_type": "fragment"
    }
   },
   "outputs": [],
   "source": [
    "from numpy.linalg import solve # let's cheat for now, we'll program this in the next section\n",
    "\n",
    "a = array([[1, -1.002], [2.002, -2]])\n",
    "solve(a, b)"
   ]
  },
  {
   "cell_type": "markdown",
   "metadata": {
    "slideshow": {
     "slide_type": "fragment"
    }
   },
   "source": [
    "A 0.001 increment on matrix coefficients divided the solution by a factor of 2!"
   ]
  },
  {
   "cell_type": "markdown",
   "metadata": {
    "slideshow": {
     "slide_type": "slide"
    }
   },
   "source": [
    "### Methods of Solution\n",
    "\n",
    "There are two classes of methods to solve linear systems:\n",
    "* Direct methods\n",
    "* Iterative methods\n",
    "\n",
    "Direct methods work by applying the following three operations to rewrite the system in a form that permits resolution:\n",
    "* Exchanging two equations\n",
    "* Multiplying an equation by a nonzero constant\n",
    "* Subtracting an equation from another one\n",
    "\n",
    "Iterative methods start with an initial solution $\\textbf{x}$ and refine it until convergence. Iterative methods are generally used when the matrix is very large and sparse, for instance to solve the [PageRank](https://en.wikipedia.org/wiki/PageRank) equations.\n"
   ]
  },
  {
   "cell_type": "markdown",
   "metadata": {
    "slideshow": {
     "slide_type": "slide"
    }
   },
   "source": [
    "#### Overview of Direct Methods\n",
    "\n",
    "Direct methods are summarized in the Table below:\n",
    "\n",
    "| Method        | Initial form    | Final form  |\n",
    "| ------------- |:-------------:| -----:|\n",
    "| Gauss Elimination      | $\\textbf{Ax}=\\textbf{b}$ | $\\textbf{Ux}=\\textbf{c}$ |\n",
    "| LU decomposition      | $\\textbf{Ax}=\\textbf{b}$      |   $\\textbf{LUx}=\\textbf{b}$ |\n",
    "| Gauss-Jordan Elimination | $\\textbf{Ax}=\\textbf{b}$      |    $\\textbf{Ix}=\\textbf{c}$ |\n",
    "\n",
    "In this table, $\\textbf{U}$ represents an upper triangular matrix, $\\textbf{L}$ is a lower triangular matrix, and $\\textbf{I}$ is the identity matrix. \n",
    "\n",
    "A square matrix is called triangular if it contains only zero elements below (lower triangular) or above (upper triangular) the diagonal. For instance, the following matrix is upper triangular:\n",
    "$$\n",
    "\\textbf{U}=\\begin{bmatrix}\n",
    "1 & 2 & 3 \\\\\n",
    "0 & 4 & 5 \\\\\n",
    "0 & 0 & 6\n",
    "\\end{bmatrix}\n",
    "$$\n",
    "and the following matrix is lower triangular:\n",
    "$$\n",
    "\\textbf{L}=\\begin{bmatrix}\n",
    "1 & 0 & 0 \\\\\n",
    "2 & 3 & 0 \\\\\n",
    "4 & 5 & 6\n",
    "\\end{bmatrix}\n",
    "$$\n",
    "\n",
    "Systems of the form $\\textbf{Lx}$=$\\textbf{c}$ can easily be solved by a procedure called $\\underline{\\mathrm{forward\\ substitution}}$: the first equation has only a single unknown, which is easy to solve; after solving the first equation, the second one has only one unknown remaining, and so on."
   ]
  },
  {
   "cell_type": "markdown",
   "metadata": {
    "slideshow": {
     "slide_type": "slide"
    }
   },
   "source": [
    "#### Exercice\n",
    "\n",
    "Solve the system of linear equations defined by $\\textbf{Lx}$=$\\textbf{c}$, where:\n",
    "$\n",
    "\\textbf{L}=\n",
    "\\begin{bmatrix}\n",
    "        1 & 0 & 0 \\\\\n",
    "        2 & 4 & 0 \\\\\n",
    "        3 & 1  & 1\n",
    "    \\end{bmatrix}\n",
    "$ \n",
    "and\n",
    "$\n",
    "\\textbf{b}=\n",
    "\\begin{bmatrix}\n",
    "        1\\\\\n",
    "        3\\\\\n",
    "        2\n",
    "    \\end{bmatrix}\n",
    "$ \n",
    "\n"
   ]
  },
  {
   "cell_type": "code",
   "execution_count": null,
   "metadata": {
    "slideshow": {
     "slide_type": "fragment"
    }
   },
   "outputs": [],
   "source": [
    "# You can verify your solution as follows, but the point is to do it manually to understand\n",
    "# how useful triangular matrices are!\n",
    "from numpy.linalg import solve\n",
    "\n",
    "a = array([[1, 0, 0], [2, 4, 0], [3, 1, 1]])\n",
    "b = array([1, 3, 2])\n",
    "solve(a, b)"
   ]
  },
  {
   "cell_type": "markdown",
   "metadata": {
    "slideshow": {
     "slide_type": "slide"
    }
   },
   "source": [
    "Likewise, systems of the form $\\textbf{Ux}$=$\\textbf{b}$ can easily be solved by $\\underline{\\mathrm{back\\  substitution}}$, solving the last equation first. \n",
    "\n",
    "For instance, solve $\\textbf{Ux}=b$, where:\n",
    "$\n",
    "\\textbf{U}=\n",
    "\\begin{bmatrix}\n",
    "        3 & 1 & 1 \\\\\n",
    "        0 & 4 & 2 \\\\\n",
    "        0 & 0  & 1\n",
    "    \\end{bmatrix}\n",
    "$ \n",
    "and\n",
    "$\n",
    "\\textbf{b}=\n",
    "\\begin{bmatrix}\n",
    "        1\\\\\n",
    "        3\\\\\n",
    "        2\n",
    "    \\end{bmatrix}\n",
    "$ \n"
   ]
  },
  {
   "cell_type": "code",
   "execution_count": null,
   "metadata": {
    "slideshow": {
     "slide_type": "fragment"
    }
   },
   "outputs": [],
   "source": [
    "U = array([[3, 1, 1], [0, 4, 2], [0, 0, 1]])\n",
    "b = array([1, 3, 2])\n",
    "solve(U, b)"
   ]
  },
  {
   "cell_type": "markdown",
   "metadata": {
    "slideshow": {
     "slide_type": "slide"
    }
   },
   "source": [
    "Finally, systems of the form $\\textbf{LUx}$=$\\textbf{b}$ can quickly be solved by solving first $\\textbf{Ly}$=$\\textbf{b}$ by forward substitution, and then $\\textbf{Ux}$=$\\textbf{y}$ by back substitution.\n",
    "\n",
    "### Exercice (Example 2.2 in textbook)\n",
    "\n",
    "Solve the equations $\\textbf{Ax}$=$\\textbf{b}$, where:\n",
    "$$\n",
    "\\textbf{A}=\n",
    "\\begin{bmatrix}\n",
    "        8 & -6 & 2 \\\\\n",
    "        -4 & 11 & -7 \\\\\n",
    "        4 & -7  & 6\n",
    "    \\end{bmatrix}\n",
    "    \\quad\n",
    "\\textbf{b}=\n",
    "\\begin{bmatrix}\n",
    "        28\\\\\n",
    "        -40\\\\\n",
    "        33\n",
    "    \\end{bmatrix}\n",
    "$$ \n",
    "knowing that the LU decomposition of $\\textbf{A}$ is (you should verify this):\n",
    "$$\n",
    "\\textbf{A}=\\textbf{LU}=\n",
    "\\begin{bmatrix}\n",
    "        2 & 0 & 0 \\\\\n",
    "        -1 & 2 & 0 \\\\\n",
    "        1 & -1  & 1\n",
    "    \\end{bmatrix}\n",
    "    \\begin{bmatrix}\n",
    "        4 & -3 & 1 \\\\\n",
    "        0 & 4 & -3 \\\\\n",
    "        0 & 0  & 2\n",
    "    \\end{bmatrix}\n",
    "$$\n",
    "(done manually in class)\n"
   ]
  },
  {
   "cell_type": "code",
   "execution_count": null,
   "metadata": {
    "slideshow": {
     "slide_type": "fragment"
    }
   },
   "outputs": [],
   "source": [
    "# You should be able to do this manually\n",
    "from numpy import array, dot\n",
    "a = array([[8, -6, 2], [-4, 11, -7], [4, -7, 6]])\n",
    "b = array([28, -40, 33])\n",
    "l = array([[2, 0, 0], [-1, 2, 0], [1, -1, 1]])\n",
    "u = array([[4, -3, 1], [0, 4, -3], [0, 0, 2]])\n",
    "# Check if the factorization is correct\n",
    "dot(l, u)\n"
   ]
  },
  {
   "cell_type": "code",
   "execution_count": null,
   "metadata": {
    "slideshow": {
     "slide_type": "slide"
    }
   },
   "outputs": [],
   "source": [
    "# Solving without the LU decomposition\n",
    "from numpy.linalg import solve\n",
    "solve(a, b)"
   ]
  },
  {
   "cell_type": "code",
   "execution_count": null,
   "metadata": {
    "slideshow": {
     "slide_type": "fragment"
    }
   },
   "outputs": [],
   "source": [
    "# Solving with the decomposition\n",
    "y = solve(l, b)\n",
    "solve(u, y)"
   ]
  },
  {
   "cell_type": "markdown",
   "metadata": {
    "slideshow": {
     "slide_type": "slide"
    }
   },
   "source": [
    "## 2.2 Gauss Elimination\n",
    "\n",
    "This method consists of two phases:\n",
    "1. The elimination phase, to transform the equations in the form $\\textbf{Ux}$=$\\textbf{c}$,\n",
    "2. The back substitution phase, to solve the equations."
   ]
  },
  {
   "cell_type": "markdown",
   "metadata": {
    "slideshow": {
     "slide_type": "slide"
    }
   },
   "source": [
    "### Elimination phase\n",
    "\n",
    "The elimination phase multiplies equations by a constant and subtracts them, which is represented as follows:\n",
    "$$\n",
    "Eq.(i) \\leftarrow Eq.(i) - \\lambda Eq.(j)\n",
    "$$\n",
    "Equation $\\textit{j}$ is called the $\\textit{pivot}$."
   ]
  },
  {
   "cell_type": "markdown",
   "metadata": {
    "slideshow": {
     "slide_type": "fragment"
    }
   },
   "source": [
    "For instance, let's consider the following equations:\n",
    "\n",
    "$$\n",
    "  3x_1+2x_2-7x_3=4  \\quad (a)\\\\\n",
    "  2x_1-x_2-4x_3=1   \\quad (b)\\\\\n",
    "  -x_1-3x_2+x_3=3   \\quad (c)\n",
    "$$"
   ]
  },
  {
   "cell_type": "markdown",
   "metadata": {
    "slideshow": {
     "slide_type": "fragment"
    }
   },
   "source": [
    "We start the process by choosing Equation (a) as the pivot, and chosing $\\lambda$ to eliminate $x_1$ from Equations (b) and (c):\n",
    "$$\n",
    "Eq.(b) \\leftarrow Eq.(b) - \\frac{2}{3}Eq.(a)\\\\\n",
    "Eq.(c) \\leftarrow Eq.(c) - \\left( -\\frac{1}{3} \\right)Eq.(a)\n",
    "$$"
   ]
  },
  {
   "cell_type": "markdown",
   "metadata": {
    "slideshow": {
     "slide_type": "fragment"
    }
   },
   "source": [
    "which gives:\n",
    "$$\n",
    "  3x_1+2x_2-7x_3=4  \\quad (a)\\\\\n",
    "  -\\frac{7}{3}x_2+\\frac{2}{3}x_3=-\\frac{5}{3}   \\quad (b)\\\\\n",
    "  -\\frac{7}{3}x_2-\\frac{4}{3}x_3=\\frac{13}{3}   \\quad (c)\n",
    "$$"
   ]
  },
  {
   "cell_type": "markdown",
   "metadata": {
    "slideshow": {
     "slide_type": "slide"
    }
   },
   "source": [
    "We now reiterate the process by choosing Equation (b) as the pivot to eliminate $x_2$ from Equation (c):\n",
    "$$\n",
    "Eq.(c) \\leftarrow Eq.(c) - Eq.(b)\n",
    "$$"
   ]
  },
  {
   "cell_type": "markdown",
   "metadata": {
    "slideshow": {
     "slide_type": "fragment"
    }
   },
   "source": [
    "which gives:\n",
    "$$\n",
    "  3x_1+2x_2-7x_3=4  \\quad (a)\\\\\n",
    "  -\\frac{7}{3}x_2+\\frac{2}{3}x_3=-\\frac{5}{3}   \\quad (b)\\\\\n",
    "  -2x_3=\\frac{18}{3}   \\quad (c)\n",
    "$$\n",
    "The elimination phase is complete.\n"
   ]
  },
  {
   "cell_type": "markdown",
   "metadata": {
    "slideshow": {
     "slide_type": "slide"
    }
   },
   "source": [
    "Using the augmented notation, the process is written as follows:\n",
    "$$\n",
    "\\left[\n",
    "\\begin{array}{ccc|c}\n",
    "3 & 2 & -7 & 4 \\\\\n",
    "2 & -1 & -4 & 1 \\\\\n",
    "-1 & -3 & 1 & 3\n",
    "\\end{array}\n",
    "\\right]\n",
    "$$\n",
    "\n",
    "$$\n",
    "\\left[\n",
    "\\begin{array}{ccc|c}\n",
    "3 & 2 & -7 & 4 \\\\\n",
    "0 & -7/3 & 2/3 & -5/3 \\\\\n",
    "0 & -7/3 & -4/3 & 13/3\n",
    "\\end{array}\n",
    "\\right]\n",
    "$$\n",
    "\n",
    "$$\n",
    "\\left[\n",
    "\\begin{array}{ccc|c}\n",
    "3 & 2 & -7 & 4 \\\\\n",
    "0 & -7/3 & 2/3 & -5/3 \\\\\n",
    "0 & 0 & -2 & 18/3\n",
    "\\end{array}\n",
    "\\right]\n",
    "$$"
   ]
  },
  {
   "cell_type": "markdown",
   "metadata": {
    "slideshow": {
     "slide_type": "slide"
    }
   },
   "source": [
    "### Back substitution\n",
    "\n",
    "We can now solve the equations by back substitution:\n",
    "$$\n",
    "x_3 = -\\frac{9}{3} = -3 \\quad (c) \\\\\n",
    "x_2 = -\\frac{3}{7} \\left(-\\frac{5}{3} + 2 \\right) = - \\frac{1}{7}\\quad (b) \\\\\n",
    "x_1 = \\frac{1}{3}\\left( 4 + \\frac{2}{7} - 21\\right) = -\\frac{39}{7} \\quad (a)\n",
    "$$"
   ]
  },
  {
   "cell_type": "markdown",
   "metadata": {
    "slideshow": {
     "slide_type": "slide"
    }
   },
   "source": [
    "### Note\n",
    "\n",
    "* The elimination phase leaves the determinant of the matrix unchanged.\n",
    "* The determinant of a triangular matrix is the product of its diagonal coefficients.\n",
    "\n",
    "Thus:\n",
    "\n",
    "$$\n",
    "\\mathrm{det}\\left(\n",
    "\\begin{bmatrix}\n",
    "3 & 2 & -7 \\\\\n",
    "2 & -1 & -4 \\\\\n",
    "-1 & -3 & 1\n",
    "\\end{bmatrix}\n",
    "\\right) = 3.-\\frac{7}{3}.-2 = 14\n",
    "$$"
   ]
  },
  {
   "cell_type": "code",
   "execution_count": null,
   "metadata": {
    "slideshow": {
     "slide_type": "fragment"
    }
   },
   "outputs": [],
   "source": [
    "from numpy.linalg import det\n",
    "from numpy import array\n",
    "a = array([[3, 2, -7], [2, -1, -4], [-1, -3, 1]])\n",
    "det(a)"
   ]
  },
  {
   "cell_type": "markdown",
   "metadata": {
    "slideshow": {
     "slide_type": "slide"
    }
   },
   "source": [
    "### Algorithm for Gauss Elimination Method\n",
    "\n",
    "#### Elimination Phase\n",
    "\n",
    "Let's look at the equations at iteration $k$ of the elimination process.\n",
    "\n",
    "* The first $k$ rows have already been transformed.\n",
    "* Row $k$ is the pivot row\n",
    "* Row $i$ is the row being transformed\n",
    "\n",
    "The augmented coefficient matrix is:\n",
    "$$\n",
    "\\left[\n",
    "\\begin{array}{ccccccccc|c}\n",
    "A_{11} & A_{12} & A_{13} & \\ldots & A_{1k} & \\ldots & A_{1j} & \\ldots & A_{1n} & b_1 \\\\\n",
    "0      & A_{22} & A_{23} & \\ldots & A_{2k} & \\ldots & A_{2j} & \\ldots & A_{2n} & b_2 \\\\\n",
    "0      & 0      & A_{33} & \\ldots & A_{3k} & \\ldots & A_{3j} & \\ldots & A_{3n} & b_3 \\\\\n",
    "\\ldots \\\\\n",
    "0      & 0      & 0 & \\ldots & A_{kk} & \\ldots & A_{kj} & \\ldots & A_{kn} & b_k \\\\\n",
    "\\hline\n",
    "\\ldots \\\\\n",
    "0      & 0      & 0 & \\ldots & A_{ik} & \\ldots & A_{ij} & \\ldots & A_{in} & b_i \\\\\n",
    "\\ldots \\\\\n",
    "0      & 0      & 0 & \\ldots & A_{nk} & \\ldots & A_{nj} & \\ldots & A_{nn} & b_n\n",
    "\\end{array}\n",
    "\\right]\n",
    "$$\n",
    "Note: the coefficients are not the one of the original matrix.\n"
   ]
  },
  {
   "cell_type": "markdown",
   "metadata": {
    "slideshow": {
     "slide_type": "slide"
    }
   },
   "source": [
    "##### Principle\n",
    "* Use the first $n-1$ rows successively as pivot row $k$.\n",
    "* For each pivot row $k$, transform row $i$ as follows ($k+1\\leq i \\leq n$): \n",
    "$$\n",
    "A_{ij} \\leftarrow A_{ij} - \\lambda_{ik} A_{kj}, \\forall j \\in |[k, n]|\n",
    "$$\n",
    "* With $\\lambda_{ik}$ such that after transformation, $A_{ik}=0$: \n",
    "$$\n",
    "\\lambda_{ik} = \\frac{A_{ik}}{A_{kk}}\n",
    "$$.\n",
    "\n"
   ]
  },
  {
   "cell_type": "markdown",
   "metadata": {
    "slideshow": {
     "slide_type": "slide"
    }
   },
   "source": [
    "##### Implementation"
   ]
  },
  {
   "cell_type": "code",
   "execution_count": null,
   "metadata": {
    "slideshow": {
     "slide_type": "fragment"
    }
   },
   "outputs": [],
   "source": [
    "from numpy import shape\n",
    "def gauss_elimination(a, b, verbose=False):\n",
    "    n, m = shape(a)\n",
    "    n2,  = shape(b)\n",
    "    assert(n==n2)\n",
    "    for k in range(n-1):\n",
    "        for i in range(k+1, n):\n",
    "            assert(a[k,k] != 0) # woops, what happens in this case? we'll talk about it later!\n",
    "            if (a[i,k] != 0): # no need to do anything when lambda is 0\n",
    "                lmbda = a[i,k]/a[k,k] # lambda is a reserved keyword in Python\n",
    "                a[i, k:n] = a[i, k:n] - lmbda*a[k, k:n] # list slice operations\n",
    "                b[i] = b[i] - lmbda*b[k] # don't forget this step! \n",
    "            if verbose:\n",
    "                print(a, b)"
   ]
  },
  {
   "cell_type": "markdown",
   "metadata": {
    "slideshow": {
     "slide_type": "slide"
    }
   },
   "source": [
    "##### Example"
   ]
  },
  {
   "cell_type": "code",
   "execution_count": null,
   "metadata": {
    "slideshow": {
     "slide_type": "fragment"
    }
   },
   "outputs": [],
   "source": [
    "a = array([[3.0, 2, -7], [2, -1, -4], [-1, -3, 1]])\n",
    "b = [4, 1, 3]\n",
    "gauss_elimination(a, b)\n",
    "print(a,b)"
   ]
  },
  {
   "cell_type": "markdown",
   "metadata": {
    "slideshow": {
     "slide_type": "slide"
    }
   },
   "source": [
    "#### Back substition phase\n",
    "\n",
    "After the elimination phase, the augmented matrix has the following form:\n",
    "$$\n",
    "\\left[\n",
    "\\begin{array}{ccccc|c}\n",
    "A_{11} & A_{12} & A_{13} & \\ldots & A_{1n} & b_1 \\\\\n",
    "0      & A_{22} & A_{23} & \\ldots & A_{2n} & b_2 \\\\\n",
    "0      & 0      & A_{33} & \\ldots & A_{3n} & b_3 \\\\\n",
    "\\ldots\\\\\n",
    "0      & 0      & 0 & \\ldots & A_{nn} & b_n\n",
    "\\end{array}\n",
    "\\right]\n",
    "$$"
   ]
  },
  {
   "cell_type": "markdown",
   "metadata": {
    "slideshow": {
     "slide_type": "fragment"
    }
   },
   "source": [
    "The equations are solved from the last row to the first:\n",
    "* $x_n$ = $b_n/A_{nn}$\n",
    "* $\\forall i < n, \\quad x_i = \\left( b_i - \\sum_{j = i +1}^n{A_{ij}x_{j}} \\right) \\frac{1}{A_{ii}}$"
   ]
  },
  {
   "cell_type": "markdown",
   "metadata": {
    "slideshow": {
     "slide_type": "slide"
    }
   },
   "source": [
    "##### Implementation"
   ]
  },
  {
   "cell_type": "code",
   "execution_count": null,
   "metadata": {
    "slideshow": {
     "slide_type": "fragment"
    }
   },
   "outputs": [],
   "source": [
    "from numpy import dot, zeros, shape\n",
    "def gauss_substitution(a, b):\n",
    "    n, m = shape(a)\n",
    "    n2, = shape(b)\n",
    "    assert(n==n2)\n",
    "    x = zeros(n)\n",
    "    for i in range(n-1, -1, -1): # decreasing index\n",
    "        x[i] = (b[i] - dot(a[i,i+1:], x[i+1:]))/a[i,i]\n",
    "    return x"
   ]
  },
  {
   "cell_type": "markdown",
   "metadata": {
    "slideshow": {
     "slide_type": "slide"
    }
   },
   "source": [
    "##### Exercice\n",
    "\n",
    "Use Gauss elimination to solve $\\textbf{Ax}=\\textbf{b}$ where:\n",
    "$$\n",
    "\\textbf{A} = \\begin{bmatrix}\n",
    "6 & -4 & 1\\\\\n",
    "-4 & 6 & -4 \\\\\n",
    "1 & -4 & 6\n",
    "\\end{bmatrix}\n",
    "\\quad\n",
    "\\mathrm{and}\n",
    "\\quad\n",
    "\\textbf{b} = \\begin{bmatrix}\n",
    "-14 \\\\\n",
    "36\\\\\n",
    "6\n",
    "\\end{bmatrix}\n",
    "$$\n",
    "(done manually in class)"
   ]
  },
  {
   "cell_type": "code",
   "execution_count": null,
   "metadata": {
    "slideshow": {
     "slide_type": "fragment"
    }
   },
   "outputs": [],
   "source": [
    "a = array([[6.0, -4, 1], [-4, 6, -4], [1, -4, 6]])\n",
    "b = [-14, 36, 6]\n",
    "gauss_elimination(a, b)\n",
    "gauss_substitution(a, b)"
   ]
  },
  {
   "cell_type": "code",
   "execution_count": null,
   "metadata": {
    "slideshow": {
     "slide_type": "fragment"
    }
   },
   "outputs": [],
   "source": [
    "# let's test our implementation\n",
    "from numpy.linalg import solve\n",
    "solve(a, b)"
   ]
  },
  {
   "cell_type": "markdown",
   "metadata": {
    "slideshow": {
     "slide_type": "slide"
    }
   },
   "source": [
    "#### Complete Solver"
   ]
  },
  {
   "cell_type": "code",
   "execution_count": null,
   "metadata": {
    "slideshow": {
     "slide_type": "fragment"
    }
   },
   "outputs": [],
   "source": [
    "def gauss(a, b):\n",
    "    gauss_elimination(a, b)\n",
    "    return gauss_substitution(a, b)"
   ]
  },
  {
   "cell_type": "code",
   "execution_count": null,
   "metadata": {
    "slideshow": {
     "slide_type": "fragment"
    }
   },
   "outputs": [],
   "source": [
    "a = array([[6.0, -4, 1], [-4, 6, -4], [1, -4, 6]])\n",
    "b = [-14, 36, 6]\n",
    "gauss(a, b)"
   ]
  },
  {
   "cell_type": "markdown",
   "metadata": {
    "slideshow": {
     "slide_type": "slide"
    }
   },
   "source": [
    "### Operations count\n",
    "\n",
    "Counting multiplications and divisions only:\n",
    "\n",
    "Elimination phase:\n",
    "$$\n",
    "\\sum_{k=1}^n \\sum_{i=k+1}^n (n-k) + 2 = \\sum_{k=1}^n (n-k)^2 + 2(n-k) = \\sum_{k=0}^{n-1} k^2 + 2\\sum_{k=0}^{n-1} k\n",
    "=\\frac{(n-1)n(2n-1)}{6}+n(n-1) = \\frac{n(n-1)(2n+5)}{6} = O\\left(\\frac{n^3}{3}\\right)\n",
    "$$\n",
    "\n",
    "Backsubstitution phase:\n",
    "$\\sum_{k=1}^n k=\\frac{n(n+1)}{2}=O\\left(\\frac{n^2}{2}\\right)$"
   ]
  },
  {
   "cell_type": "markdown",
   "metadata": {
    "slideshow": {
     "slide_type": "slide"
    }
   },
   "source": [
    "### Multiple Sets of Equations\n",
    "\n",
    "It is frequently necessary to solve $\\textbf{Ax}=\\textbf{b}$ for multiple values of $\\textbf{b}$. We denote multiple sets of equations by \n",
    "$\\textbf{AX}=\\textbf{B}$, where:\n",
    "\n",
    "$$\n",
    "\\textbf{X}=[\\textbf{x}_1, \\textbf{x}_2, \\ldots \\textbf{x}_m] \\quad \\textbf{B}=[\\textbf{b}_1, \\textbf{b}_2, \\ldots \\textbf{b}_m]\n",
    "$$\n",
    "are $n \\times m$ matrices.\n",
    "\n",
    "An easy way to handle such equations during the elimination phase is to include all constant vectors in the augmented matrix, so that they are transformed simultaneously with the coefficient matrix:\n",
    "$$\n",
    "\\left[\n",
    "\\begin{array}{ccccccccc|cccc}\n",
    "A_{11} & A_{12} & A_{13} & \\ldots & A_{1k} & \\ldots & A_{1j} & \\ldots & A_{1n} & b_{11} & b_{12} & \\ldots & b_{1m} \\\\\n",
    "0      & A_{22} & A_{23} & \\ldots & A_{2k} & \\ldots & A_{2j} & \\ldots & A_{2n} & b_{21} & b_{22} & \\ldots & b_{2m} \\\\\n",
    "0      & 0      & A_{33} & \\ldots & A_{3k} & \\ldots & A_{3j} & \\ldots & A_{3n} & b_{31} & b_{32} & \\ldots & b_{3m} \\\\\n",
    "\\ldots \\\\\n",
    "0      & 0      & 0 & \\ldots & A_{kk} & \\ldots & A_{kj} & \\ldots & A_{kn} & b_{k1} & b_{k2} & \\ldots & b_{km} \\\\ \\\\\n",
    "\\hline\n",
    "\\ldots \\\\\n",
    "0      & 0      & 0 & \\ldots & A_{ik} & \\ldots & A_{ij} & \\ldots & A_{in} & b_{i1} & b_{i2} & \\ldots & b_{im} \\\\ \\\\\n",
    "\\ldots \\\\\n",
    "0      & 0      & 0 & \\ldots & A_{nk} & \\ldots & A_{nj} & \\ldots & A_{nn} & b_{n1} & b_{n2} & \\ldots & b_{nm} \n",
    "\\end{array}\n",
    "\\right]\n",
    "$$\n",
    "\n",
    "\n",
    "$\\underline{\\mathrm{The\\ LU\\ decomposition\\ method\\ provides\\ a\\ more\\ versatile\\ solution}}$.\n"
   ]
  },
  {
   "cell_type": "markdown",
   "metadata": {
    "slideshow": {
     "slide_type": "slide"
    }
   },
   "source": [
    "## 2.3 LU Decomposition Methods\n",
    "\n",
    "### Introduction\n",
    "\n",
    "Any square matrix $\\textbf{A}$ can be expressed as a product of a lower triangular matrix $\\textbf{L}$ and an upper triangular matrix $\\textbf{U}$:\n",
    "$$\n",
    "\\textbf{A}=\\textbf{LU}\n",
    "$$\n",
    "\n",
    "However, this decomposition is not unique unless certain constraints are placed on $\\textbf{L}$ and $\\textbf{U}$. Common decomposition methods are listed here:\n",
    "\n",
    "| Name        | Constraints    |\n",
    "| ------------- |:-------------:|\n",
    "| Doolittle's decomposition  | $\\textbf{L}_{ii}=1$ |\n",
    "| Crout's decomposition      | $\\textbf{U}_{ii}=1$      |\n",
    "| Choleski decomposition | $\\textbf{L}=\\textbf{U}^T$ |"
   ]
  },
  {
   "cell_type": "markdown",
   "metadata": {
    "slideshow": {
     "slide_type": "fragment"
    }
   },
   "source": [
    "From the decomposition of $\\textbf{A}$, it is easy to solve $\\textbf{A}\\textbf{x}=\\textbf{b}$:\n",
    "1. Solve $\\textbf{Ly}=\\textbf{b}$ by forward substitution\n",
    "2. Solve $\\textbf{Ux}=\\textbf{y}$ by back substitution\n",
    "\n",
    "The advantage of the $\\textbf{LU}$ decomposition method is that once $\\textbf{A}$ is decomposed, the cost of solving the system for another instance of $\\textbf{b}$ is relatively small."
   ]
  },
  {
   "cell_type": "markdown",
   "metadata": {
    "slideshow": {
     "slide_type": "slide"
    }
   },
   "source": [
    "### Doolittle's Decomposition Method\n",
    "\n",
    "#### Decomposition phase\n",
    "\n",
    "This method is closely related to Gauss elimination. Let's consider a $3 \\times 3$ matrix $\\textbf{A}$ and let's assume that there exists $\\textbf{L}$ and $\\textbf{U}$:\n",
    "$$\n",
    "\\textbf{L} = \\begin{bmatrix}\n",
    "1 & 0 & 0 \\\\\n",
    "L_{21} & 1 & 0 \\\\\n",
    "L_{31} & L_{32} & 1\n",
    "\\end{bmatrix}\n",
    "\\quad\n",
    "\\textbf{U} = \\begin{bmatrix}\n",
    "U_{11} & U_{12} & U_{13}\\\\\n",
    "0      & U_{22} & U_{23}\\\\\n",
    "0      & 0      & U_{33}\n",
    "\\end{bmatrix}\n",
    "$$\n",
    "such that $\\textbf{A}=\\textbf{LU}$. We get:\n",
    "$$\n",
    "\\textbf{A} = \\begin{bmatrix}\n",
    "U_{11} & U_{12} & U_{13} \\\\\n",
    "L_{21}U_{11} & L_{21}U_{12}+U_{22} & L_{21}U_{13}+U_{23}\\\\\n",
    "L_{31}U_{11} & L_{31}U_{12}+L_{32}U_{22} & L_{31}U_{13}+L_{32}U_{23}+U_{33}\n",
    "\\end{bmatrix}\n",
    "$$"
   ]
  },
  {
   "cell_type": "markdown",
   "metadata": {
    "slideshow": {
     "slide_type": "fragment"
    }
   },
   "source": [
    "Let's now apply Gauss elimination.\n",
    "\n",
    "First pass:\n",
    "* row2 $\\leftarrow$ row2 - $L_{21}$row1\n",
    "* row3 $\\leftarrow$ row3 - $L_{31}$row1\n",
    "\n",
    "$$\n",
    "\\textbf{A} = \\begin{bmatrix}\n",
    "U_{11} & U_{12} & U_{13} \\\\\n",
    "0 & U_{22} & U_{23}\\\\\n",
    "0 & L_{32}U_{22} & L_{32}U_{23}+U_{33}\n",
    "\\end{bmatrix}$$"
   ]
  },
  {
   "cell_type": "markdown",
   "metadata": {
    "slideshow": {
     "slide_type": "slide"
    }
   },
   "source": [
    "Second pass:\n",
    "* row3 $\\leftarrow$ row3-$L_{32}$row2\n",
    "\n",
    "$$\n",
    "\\textbf{A} = \\begin{bmatrix}\n",
    "U_{11} & U_{12} & U_{13} \\\\\n",
    "0 & U_{22} & U_{23}\\\\\n",
    "0 & 0 & U_{33}\n",
    "\\end{bmatrix}$$"
   ]
  },
  {
   "cell_type": "markdown",
   "metadata": {
    "slideshow": {
     "slide_type": "fragment"
    }
   },
   "source": [
    "This illustration shows 2 properties of Doolittle's decomposition:\n",
    "1. $\\textbf{U}$ is the upper diagonal matrix resulting from Gauss decomposition\n",
    "2. The off-diagonal elements of $\\textbf{L}$ are the multipliers for the pivot equations: $L_{ij}$ is used to eliminate $A_{ij}$"
   ]
  },
  {
   "cell_type": "markdown",
   "metadata": {
    "slideshow": {
     "slide_type": "fragment"
    }
   },
   "source": [
    "It is common to store the multipliers in the lower triangular portion of the matrix. The final form of the coefficient matrix would be:\n",
    "$$\n",
    "[\\textbf{L} \\backslash \\textbf{U}]= \\begin{bmatrix}\n",
    "U_{11} & U_{12} & U_{13} \\\\\n",
    "L_{21} & U_{22} & U_{23} \\\\\n",
    "L_{31} & L_{32} & U_{33}\n",
    "\\end{bmatrix}\n",
    "$$\n",
    "The algorithm is very similar to Gauss elimination:"
   ]
  },
  {
   "cell_type": "code",
   "execution_count": null,
   "metadata": {
    "slideshow": {
     "slide_type": "slide"
    }
   },
   "outputs": [],
   "source": [
    "def dolittle_decomp(a, verbose=False):\n",
    "    n, m = shape(a)\n",
    "    assert(n == m) # check that matrix is square\n",
    "    for k in range(n-1):\n",
    "        for i in range(k+1, n):\n",
    "            assert(a[k,k] != 0) # woops, what happens in this case? we'll talk about it later!\n",
    "            if (a[i,k] != 0): # no need to do anything when lambda is 0\n",
    "                lmbda = a[i,k]/a[k,k] # lambda is a reserved keyword in Python\n",
    "                a[i, k:n] = a[i, k:n] - lmbda*a[k, k:n] # list slice operations\n",
    "                a[i, k] = lmbda # <--- new in Dolittle decomposition\n",
    "            if verbose:\n",
    "                print(a)\n",
    "    return a"
   ]
  },
  {
   "cell_type": "code",
   "execution_count": null,
   "metadata": {
    "slideshow": {
     "slide_type": "fragment"
    }
   },
   "outputs": [],
   "source": [
    "from numpy import array\n",
    "a = array([[1.0, 4, 1], [1, 6, -1], [2, -1, 2]])\n",
    "dolittle_decomp(a)\n",
    "print(a)"
   ]
  },
  {
   "cell_type": "markdown",
   "metadata": {
    "slideshow": {
     "slide_type": "slide"
    }
   },
   "source": [
    "#### Solution phase\n",
    "\n",
    "First we solve $\\textbf{Ly}=\\textbf{b}$ by forward substitution:\n",
    "$$\n",
    "y_1 = b_1 \\\\\n",
    "L_{21}y_1 + L_{22}y_2 = b_2 \\\\\n",
    "\\ldots\n",
    "L_{k1}y_1 + L_{k2}y_2 + \\ldots + L_{k,k-1}y_{k-1} + y_k = b_k \\\\\n",
    "\\ldots\n",
    "$$\n",
    "\n",
    "Thus:\n",
    "$$\n",
    "y_k = b_k - \\sum_{i=1}^{k-1}L_{k,i}y_i\n",
    "$$\n",
    "\n",
    "Implementation:"
   ]
  },
  {
   "cell_type": "code",
   "execution_count": null,
   "metadata": {
    "slideshow": {
     "slide_type": "fragment"
    }
   },
   "outputs": [],
   "source": [
    "def dolittle_solution_forward(l, b):\n",
    "    for k in range(1, len(b)):\n",
    "        b[k] = b[k] - dot(l[k,0:k],b[0:k])\n",
    "    return b"
   ]
  },
  {
   "cell_type": "markdown",
   "metadata": {
    "slideshow": {
     "slide_type": "slide"
    }
   },
   "source": [
    "The back substitution phase for solving $\\textbf{Ux}=\\textbf{y}$ is identical to the one in the Gauss elimination method.\n",
    "\n",
    "#### Complete solver"
   ]
  },
  {
   "cell_type": "code",
   "execution_count": null,
   "metadata": {
    "slideshow": {
     "slide_type": "fragment"
    }
   },
   "outputs": [],
   "source": [
    "def dolittle_solver(a, b, verbose=False):\n",
    "    dolittle_decomp(a)\n",
    "    if verbose:\n",
    "        print(\"LU={}\".format(a))\n",
    "    y = dolittle_solution_forward(a, b)\n",
    "    if verbose:\n",
    "        print(\"y={}\".format(y))\n",
    "    return gauss_substitution(a, y)"
   ]
  },
  {
   "cell_type": "markdown",
   "metadata": {
    "slideshow": {
     "slide_type": "slide"
    }
   },
   "source": [
    "#### Exercise\n",
    "\n",
    "Use Dolittle's decomposition to solve $\\textbf{Ax}=\\textbf{b}$ where:\n",
    "$$\n",
    "\\textbf{A} = \\begin{bmatrix}\n",
    "1 & 4 & 1 \\\\\n",
    "1 & 6 & -1 \\\\\n",
    "2 & -1 & 2\n",
    "\\end{bmatrix}\n",
    "\\quad\n",
    "\\textbf{b} = \\begin{bmatrix}\n",
    "7 \\\\\n",
    "13 \\\\\n",
    "5\n",
    "\\end{bmatrix}\n",
    "$$"
   ]
  },
  {
   "cell_type": "code",
   "execution_count": null,
   "metadata": {
    "slideshow": {
     "slide_type": "fragment"
    }
   },
   "outputs": [],
   "source": [
    "from numpy import array\n",
    "a = array([[1.0, 4, 1], [1, 6, -1], [2, -1, 2]])\n",
    "b = array([7, 13, 5])\n",
    "dolittle_solver(a, b, True)"
   ]
  },
  {
   "cell_type": "code",
   "execution_count": null,
   "metadata": {
    "slideshow": {
     "slide_type": "fragment"
    }
   },
   "outputs": [],
   "source": [
    "# and let's test our implementation\n",
    "from numpy.linalg import solve\n",
    "from numpy import array\n",
    "a = array([[1.0, 4, 1], [1, 6, -1], [2, -1, 2]])\n",
    "b = array([7, 13, 5])\n",
    "solve(a, b)"
   ]
  },
  {
   "cell_type": "markdown",
   "metadata": {
    "slideshow": {
     "slide_type": "slide"
    }
   },
   "source": [
    "### Choleski's Decomposition Method\n",
    "\n",
    "Choleski's LU decomposition focuses on $\\underline{\\mathrm{symmetric,\\ definite,\\ positive}}$ matrices. It does $O\\left( \\frac{n^3}{6}\\right)$ multiplications or divisions. Compared to Gauss elimination, it reduces the number of operations by about half.\n",
    "\n",
    "The decomposition is in the following form:\n",
    "$$\n",
    "\\textbf{A}=\\textbf{L}\\textbf{L}^T\n",
    "$$\n",
    "which gives, for a $3 \\times 3$ matrix:\n",
    "$$\n",
    "\\begin{bmatrix}\n",
    "A_{11} & A_{12} & A_{13} \\\\\n",
    "A_{12} & A_{22} & A_{23} \\\\\n",
    "A_{13} & A_{23} & A_{33}\n",
    "\\end{bmatrix}\n",
    "= \\begin{bmatrix}\n",
    "L_{11} & 0 & 0 \\\\\n",
    "L_{12} & L_{22} & 0  \\\\\n",
    "L_{13} & L_{23} & L_{33}\n",
    "\\end{bmatrix}\n",
    "\\begin{bmatrix}\n",
    "L_{11} & L_{12} & L_{13} \\\\\n",
    "0      & L_{22} & L_{23} \\\\\n",
    "0      & 0 & L_{33}\n",
    "\\end{bmatrix}\n",
    "$$\n"
   ]
  },
  {
   "cell_type": "markdown",
   "metadata": {
    "slideshow": {
     "slide_type": "fragment"
    }
   },
   "source": [
    "Thus:\n",
    "$$\n",
    "\\begin{bmatrix}\n",
    "A_{11} & A_{12} & A_{13} \\\\\n",
    "A_{12} & A_{22} & A_{23} \\\\\n",
    "A_{13} & A_{23} & A_{33}\n",
    "\\end{bmatrix}\n",
    "= \\begin{bmatrix}\n",
    "L_{11}^2 & L_{11}L_{12} & L_{11}L_{13} \\\\\n",
    "L_{12}L_{11}  & L_{12}^2 + L_{22}^2 & L_{12}L_{13} + L_{22}L_{23} \\\\\n",
    "L_{13}L_{11} & L_{13}L_{12} + L_{23}L_{22} & L_{13}^2 + L_{23}^2 + L_{33}^2\n",
    "\\end{bmatrix}\n",
    "$$\n"
   ]
  },
  {
   "cell_type": "markdown",
   "metadata": {
    "slideshow": {
     "slide_type": "fragment"
    }
   },
   "source": [
    "And by identification in the first column:\n",
    "\n",
    "$$\n",
    "A_{11} = L_{11}^2 \\\\\n",
    "A_{12} = L_{11}L_{12}\\\\\n",
    "A_{13} = L_{11}L_{13}\n",
    "$$\n",
    "Thus:\n",
    "$$\n",
    "L_{11} = \\sqrt{A_{11}} \\\\\n",
    "L_{12} = \\frac{A_{12}}{L_{11}} \\\\\n",
    "L_{13} = \\frac{A_{13}}{L_{11}}\n",
    "$$\n"
   ]
  },
  {
   "cell_type": "markdown",
   "metadata": {
    "slideshow": {
     "slide_type": "slide"
    }
   },
   "source": [
    "By identification of the second column:\n",
    "$$\n",
    "A_{22} = L_{12}^2 + L_{22}^2 \\\\\n",
    "A_{23} = L_{13}L_{12} + L_{23}L_{22}\n",
    "$$\n",
    "Thus:\n",
    "$$\n",
    "L_{22} = \\sqrt{A_{22} - L_{12}^2}\\\\\n",
    "L_{23} = \\frac{A_{23} - L_{13}L_{12}}{L_{22}}\n",
    "$$"
   ]
  },
  {
   "cell_type": "markdown",
   "metadata": {
    "slideshow": {
     "slide_type": "slide"
    }
   },
   "source": [
    "By identification of the last column:\n",
    "$$\n",
    "A_{33} = L_{13}^2 + L_{23}^2 + L_{33}^2\n",
    "$$\n",
    "Thus:\n",
    "$$\n",
    "L_{33} = \\sqrt{A_{33}-L_{13}^2-L_{23}^2}\n",
    "$$"
   ]
  },
  {
   "cell_type": "markdown",
   "metadata": {
    "slideshow": {
     "slide_type": "slide"
    }
   },
   "source": [
    "Likewise, for matrices of size $n \\times n$, the solution is:\n",
    "$$\n",
    "L_{ii} = \\sqrt{A_{ii}-\\sum_{j=1}^{i-1}{L_{ji}^2}}, \\quad \\forall i \\in |[2, n]|\n",
    "$$\n",
    "with:\n",
    "$$\n",
    "L_{11} = \\sqrt{A_{11}}\n",
    "$$"
   ]
  },
  {
   "cell_type": "markdown",
   "metadata": {
    "slideshow": {
     "slide_type": "fragment"
    }
   },
   "source": [
    "And for a non-diagonal term:\n",
    "\n",
    "$$\n",
    "L_{ij} = \\frac{A_{ij}-\\sum_{k=1}^{j-1}{L_{ik}L_{jk}}}{L_{jj}},\\quad \\forall j \\in |[2, n-1|] \\quad \\mathrm{and} \\quad \\forall i \\in |[j+1, n]|\n",
    "$$"
   ]
  },
  {
   "cell_type": "markdown",
   "metadata": {
    "slideshow": {
     "slide_type": "slide"
    }
   },
   "source": [
    "## 2.4 Symmetric and Banded Coefficient Matrices\n",
    "\n",
    "A matrix is said to be $\\underline{\\mathrm{banded}}$ when all its non-zero coefficients are clustered around its diagonal, for instance (X are the non-zero elements):\n",
    "$$\n",
    "\\textbf{A} = \\begin{bmatrix}\n",
    "X & X & 0 & 0 & 0 \\\\\n",
    "X & X & X & 0 & 0 \\\\\n",
    "0 & X & X & X & 0 \\\\\n",
    "0 & 0 & X & X & X \\\\\n",
    "0 & 0 & 0 & X & X\n",
    "\\end{bmatrix}\n",
    "$$"
   ]
  },
  {
   "cell_type": "markdown",
   "metadata": {
    "slideshow": {
     "slide_type": "fragment"
    }
   },
   "source": [
    "If a banded matrix is decomposed in the form $\\textbf{A}=\\textbf{LU}$ then $\\textbf{L}$ and $\\textbf{U}$ preserve the banded structure. For instance, the matrix $\\textbf{A}$ above would be decomposed as follows:\n",
    "$$\n",
    "\\textbf{L} = \\begin{bmatrix}\n",
    "X & 0 & 0 & 0 & 0 \\\\\n",
    "X & X & 0 & 0 & 0 \\\\\n",
    "0 & X & X & 0 & 0 \\\\\n",
    "0 & 0 & X & X & 0 \\\\\n",
    "0 & 0 & 0 & X & X\n",
    "\\end{bmatrix}\n",
    "\\quad\n",
    "\\textbf{U} = \\begin{bmatrix}\n",
    "X & X & 0 & 0 & 0 \\\\\n",
    "0 & X & X & 0 & 0 \\\\\n",
    "0 & 0 & X & X & 0 \\\\\n",
    "0 & 0 & 0 & X & X \\\\\n",
    "0 & 0 & 0 & 0 & X\n",
    "\\end{bmatrix}\n",
    "$$\n"
   ]
  },
  {
   "cell_type": "markdown",
   "metadata": {
    "slideshow": {
     "slide_type": "slide"
    }
   },
   "source": [
    "### Tridiagnoal Coefficient Matrix\n",
    "\n",
    "Memory can be saved by storing only the non-zero elements of banded matrices.\n",
    "\n",
    "Consider the $n \\times n$ tridiagonal matrix $\\textbf{A}$ noted as follows:\n",
    "$$\n",
    "\\textbf{A} = \\begin{bmatrix}\n",
    "d_1 & e_1 & 0 & 0 & \\ldots & 0 \\\\\n",
    "c_1 & d_2 & e_2 & 0 & \\ldots & 0 \\\\\n",
    "0 & c_2 & d_3 & e_3 & \\ldots & 0 \\\\\n",
    "0 & 0 & c_3 & d_4 & \\ldots & 0 \\\\\n",
    "\\ldots \\\\\n",
    "0 & 0 & \\ldots & 0 & c_{n-1} & d_n\n",
    "\\end{bmatrix}\n",
    "$$"
   ]
  },
  {
   "cell_type": "markdown",
   "metadata": {
    "slideshow": {
     "slide_type": "fragment"
    }
   },
   "source": [
    "The elements of $\\textbf{A}$ are stored in three vectors $\\textbf{a}$, $\\textbf{b}$ and $\\textbf{c}$, which significantly saves on memory."
   ]
  },
  {
   "cell_type": "markdown",
   "metadata": {
    "slideshow": {
     "slide_type": "slide"
    }
   },
   "source": [
    "Let us now apply Dolittle's LU decomposition. We eliminate $c_{k-1}$ from row $k$ as follows:\n",
    "$$\n",
    "row\\ k \\leftarrow row\\ k - (c_{k-1}/d_{k-1}) \\times row(k-1), \\quad \\forall k \\in |[2, n]|\n",
    "$$\n",
    "\n",
    "$e_k$ is not affected while $d_k$ is modified as follows:\n",
    "$$\n",
    "d_k \\leftarrow d_k - (c_{k-1}/d_{k-1})e_{k-1}\n",
    "$$\n",
    "\n",
    "To finish Doolitle's decomposition of the form [$\\textbf{L}\\backslash\\textbf{U}$], we store the multiplier \n",
    "$\\lambda_k=c_{k-1}/d_{k-1}$ in the location of $c_{k-1}$:\n",
    "$$\n",
    "c_{k-1} \\leftarrow c_{k-1}/d_{k-1}\n",
    "$$\n",
    "\n",
    "The decomposition algorithm is implemented as follows:"
   ]
  },
  {
   "cell_type": "code",
   "execution_count": null,
   "metadata": {
    "slideshow": {
     "slide_type": "fragment"
    }
   },
   "outputs": [],
   "source": [
    "def tridiag_decomp(c, d, e):\n",
    "    assert(len(c) == len(d) == len(e))\n",
    "    n = len(c)\n",
    "    for k in range(1, n):\n",
    "        lambd = c[k-1]/d[k-1]\n",
    "        d[k] -= lambd*e[k-1]\n",
    "        c[k-1] = lambd"
   ]
  },
  {
   "cell_type": "markdown",
   "metadata": {
    "slideshow": {
     "slide_type": "fragment"
    }
   },
   "source": [
    "Decomposition phase is now in O(n)!"
   ]
  },
  {
   "cell_type": "markdown",
   "metadata": {
    "slideshow": {
     "slide_type": "slide"
    }
   },
   "source": [
    "### Solution phase\n",
    "\n",
    "We start by solving $\\textbf{Ly}=\\textbf{b}$:\n",
    "\n",
    "$$\n",
    "\\left[ \\textbf{L} | \\textbf{b} \\right] = \\left[ \\begin{array}{cccccc|c}\n",
    "1 & 0 & 0 & 0 & \\ldots & 0 & b_1 \\\\\n",
    "c_1 & 1 & 0 & 0 & \\ldots & 0 & b_2 \\\\\n",
    "0 & c_2 & 1 & 0 & \\ldots & 0 & b_3 \\\\\n",
    "0 & 0 & c_3 & 1 & \\ldots & 0 & b_4 \\\\\n",
    "\\ldots \\\\\n",
    "0 & 0 & \\ldots & 0 & c_{n-1} & 1 & b_n\n",
    "\\end{array}\n",
    "\\right]\n",
    "$$\n",
    "Note that $c_i$ represents the multipliers computed during the decomposition, not the original coefficients in $\\textbf{A}$."
   ]
  },
  {
   "cell_type": "markdown",
   "metadata": {
    "slideshow": {
     "slide_type": "fragment"
    }
   },
   "source": [
    "We have:\n",
    "$$\n",
    "y_1 = b_1\\\\\n",
    "\\forall i \\in |[2, n|], \\quad y_i = b_i - c_{i-1}y_{i-1}\n",
    "$$"
   ]
  },
  {
   "cell_type": "markdown",
   "metadata": {
    "slideshow": {
     "slide_type": "fragment"
    }
   },
   "source": [
    "We now solve $\\textbf{Ux}=\\textbf{y}$:\n",
    "\n",
    "$$\n",
    "\\left[ \\textbf{U} | \\textbf{y} \\right] = \\left[ \\begin{array}{cccccc|c}\n",
    "d_1 & e_1 & 0 & 0 & \\ldots & 0 & y_1 \\\\\n",
    "0 & d_2 & e_2 & 0 & \\ldots & 0 & y_2 \\\\\n",
    "0 & 0 & d_3 & e_3 & \\ldots & 0 & y_3 \\\\\n",
    "\\ldots \\\\\n",
    "0 & 0 & \\ldots & 0 & d_{n-1} & e_{n-1} & y_{n-1}\\\\\n",
    "0 & 0 & \\ldots & 0 & 0 & d_{n} & y_n\n",
    "\\end{array}\n",
    "\\right]\n",
    "$$\n",
    "\n",
    "which gives, by backsubstitution:"
   ]
  },
  {
   "cell_type": "markdown",
   "metadata": {
    "slideshow": {
     "slide_type": "fragment"
    }
   },
   "source": [
    "$$\n",
    "x_n = \\frac{y_n}{d_n} \\\\\n",
    "\\forall i \\in |[1, n-1]|, \\quad x_i = \\frac{y_{i} - e_ix_{i+1}}{d_i}\n",
    "$$\n",
    "\n"
   ]
  },
  {
   "cell_type": "markdown",
   "metadata": {
    "slideshow": {
     "slide_type": "slide"
    }
   },
   "source": [
    "### Implementation"
   ]
  },
  {
   "cell_type": "code",
   "execution_count": null,
   "metadata": {
    "slideshow": {
     "slide_type": "fragment"
    }
   },
   "outputs": [],
   "source": [
    "from numpy import zeros\n",
    "def tridiag_solve(c, d, e, b): # watch out, input has to be in LU form!\n",
    "    assert(len(c) == len(d) == len(e) == len(b))\n",
    "    n = len(c)\n",
    "    # forward substitution\n",
    "    for i in range(1, n):\n",
    "        b[i] = b[i]-c[i-1]*b[i-1] # Here we use b to store y\n",
    "    # back substitution\n",
    "    b[n-1] = b[n-1]/d[n-1] # Here we use b to store x\n",
    "    for i in range (n-2, -1, -1):\n",
    "        b[i] = (b[i]-e[i]*b[i+1])/d[i]"
   ]
  },
  {
   "cell_type": "markdown",
   "metadata": {
    "slideshow": {
     "slide_type": "fragment"
    }
   },
   "source": [
    "Solution phase is in O(n) too!"
   ]
  },
  {
   "cell_type": "code",
   "execution_count": null,
   "metadata": {
    "slideshow": {
     "slide_type": "slide"
    }
   },
   "outputs": [],
   "source": [
    "def tridiag_solver(c, d, e, b): # complete solver for tridiagonal systems\n",
    "    tridiag_decomp(c, d, e)\n",
    "    tridiag_solve(c, d, e, b)"
   ]
  },
  {
   "cell_type": "code",
   "execution_count": null,
   "metadata": {
    "slideshow": {
     "slide_type": "fragment"
    }
   },
   "outputs": [],
   "source": [
    "import numpy as np\n",
    "a = np.array([[1, 1, 0, 0, 0], [1, 2, 1, 0, 0], [0, 1, 3, 1, 0], [0, 0, 1, 4, 1], [0, 0, 0, 1, 5]])\n",
    "c = np.array([1, 1, 1, 1, 0], dtype=np.float_)\n",
    "d = np.array([1, 2, 3, 4, 5], dtype=np.float_)\n",
    "e = np.array([1, 1, 1, 1, 0], dtype=np.float_)\n",
    "b = np.array([1, 2, 3, 4, 5], dtype=np.float_)\n",
    "tridiag_solver(c, d, e, b)\n",
    "print(\"Our result:\", b)\n",
    "\n",
    "from numpy.linalg import solve\n",
    "b = array([1, 2, 3, 4, 5], dtype=np.float_) # watch out, b is modified by our solver!\n",
    "x = solve(a, b)\n",
    "print(\"Numpy's result:\", x)\n"
   ]
  },
  {
   "cell_type": "markdown",
   "metadata": {
    "slideshow": {
     "slide_type": "slide"
    }
   },
   "source": [
    "## 2.5 Pivoting\n",
    "\n"
   ]
  },
  {
   "cell_type": "markdown",
   "metadata": {
    "slideshow": {
     "slide_type": "fragment"
    }
   },
   "source": [
    "Any idea what is going wong below? \n",
    "\n",
    "Let's define the following system:"
   ]
  },
  {
   "cell_type": "code",
   "execution_count": null,
   "metadata": {
    "slideshow": {
     "slide_type": "fragment"
    }
   },
   "outputs": [],
   "source": [
    "import numpy as np\n",
    "a = array([[2, -1, 0], [-1, 2, -1], [0, -1, 1]], dtype=np.float_)\n",
    "b = array([1, 0, 0], dtype=np.float_)\n",
    "print(a)\n",
    "print(b)"
   ]
  },
  {
   "cell_type": "markdown",
   "metadata": {
    "slideshow": {
     "slide_type": "fragment"
    }
   },
   "source": [
    "Let's solve it using our `gauss` function:"
   ]
  },
  {
   "cell_type": "code",
   "execution_count": null,
   "metadata": {
    "slideshow": {
     "slide_type": "fragment"
    }
   },
   "outputs": [],
   "source": [
    "x = gauss(a, b)\n",
    "print(x)"
   ]
  },
  {
   "cell_type": "markdown",
   "metadata": {
    "slideshow": {
     "slide_type": "slide"
    }
   },
   "source": [
    "Let's check that it is the correct answer:"
   ]
  },
  {
   "cell_type": "code",
   "execution_count": null,
   "metadata": {
    "slideshow": {
     "slide_type": "fragment"
    }
   },
   "outputs": [],
   "source": [
    "import numpy as np\n",
    "a = array([[2, -1, 0], [-1, 2, -1], [0, -1, 1]], dtype=np.float_)\n",
    "b = array([1, 0, 0], dtype=np.float_)\n",
    "x = np.linalg.solve(a, b)\n",
    "print(x)"
   ]
  },
  {
   "cell_type": "markdown",
   "metadata": {
    "slideshow": {
     "slide_type": "slide"
    }
   },
   "source": [
    "Now let's swap  rows 1 and 3 of the system:"
   ]
  },
  {
   "cell_type": "code",
   "execution_count": null,
   "metadata": {
    "slideshow": {
     "slide_type": "fragment"
    }
   },
   "outputs": [],
   "source": [
    "import numpy as np\n",
    "a = array([[0, -1, 1], [-1, 2, -1],  [2, -1, 0]], dtype=np.float_)\n",
    "b = array([0, 0, 1], dtype=np.float_)\n",
    "print(a)\n",
    "print(b)"
   ]
  },
  {
   "cell_type": "markdown",
   "metadata": {
    "slideshow": {
     "slide_type": "fragment"
    }
   },
   "source": [
    "The solution remains the same:"
   ]
  },
  {
   "cell_type": "code",
   "execution_count": null,
   "metadata": {
    "slideshow": {
     "slide_type": "fragment"
    }
   },
   "outputs": [],
   "source": [
    "import numpy as np\n",
    "x = np.linalg.solve(a, b)\n",
    "print(x)"
   ]
  },
  {
   "cell_type": "markdown",
   "metadata": {
    "slideshow": {
     "slide_type": "slide"
    }
   },
   "source": [
    "But with our implementation, woops!"
   ]
  },
  {
   "cell_type": "code",
   "execution_count": null,
   "metadata": {
    "slideshow": {
     "slide_type": "fragment"
    }
   },
   "outputs": [],
   "source": [
    "x = gauss(a, b)\n",
    "print(x)"
   ]
  },
  {
   "cell_type": "markdown",
   "metadata": {
    "slideshow": {
     "slide_type": "slide"
    }
   },
   "source": [
    "Issue: we don't want zeros, or elements with a very small absolute value, on the diagonal (small elements would be detrimental to numerical accuracy).\n",
    "\n",
    "To address this issue, we will swap rows in $\\textbf{A}$: this is called $\\underline{\\mathrm{pivoting}}$.\n",
    "\n",
    "### Diagonal dominance\n",
    "\n",
    "An $n \\times n$ matrix is $\\underline{\\mathrm{diagonal\\ dominant}}$ if:\n",
    "$$\n",
    "\\forall i \\in |[1, n]|, \\quad |A_{ii}| > \\sum_{j \\neq i}|A_{ij}|\n",
    "$$\n",
    "\n",
    "It can be shown that if $\\textbf{A}$ is diagonal dominant, then the solution of $\\textbf{Ax}=\\textbf{b}$ does not benefit from row pivoting."
   ]
  },
  {
   "cell_type": "markdown",
   "metadata": {
    "slideshow": {
     "slide_type": "slide"
    }
   },
   "source": [
    "### Gauss Elimination with scale row pivoting\n",
    "\n",
    "Let's define a vector $\\textbf{s}$ such that:\n",
    "$$\n",
    "\\forall i \\in |[1, n]|, \\quad s_i = \\max_j{|A_{ij}|}\n",
    "$$\n",
    "\n",
    "And let's define the relative size of an element $A_{ij}$ as follows:\n",
    "$$\n",
    "r_{ij} = \\frac{|A_{ij}|}{s_i}\n",
    "$$\n",
    "\n"
   ]
  },
  {
   "cell_type": "markdown",
   "metadata": {
    "slideshow": {
     "slide_type": "fragment"
    }
   },
   "source": [
    "Before starting iteration $k-1$ of the Gauss elimination process, the linear system is defined as follows:\n",
    "$$\n",
    "\\left[\n",
    "\\begin{array}{ccccccccc|c}\n",
    "A_{11} & A_{12} & A_{13} & \\ldots & A_{1k} & \\ldots & A_{1j} & \\ldots & A_{1n} & b_1 \\\\\n",
    "0      & A_{22} & A_{23} & \\ldots & A_{2k} & \\ldots & A_{2j} & \\ldots & A_{2n} & b_2 \\\\\n",
    "0      & 0      & A_{33} & \\ldots & A_{3k} & \\ldots & A_{3j} & \\ldots & A_{3n} & b_3 \\\\\n",
    "\\ldots \\\\\n",
    "\\hline\\\\\n",
    "0      & 0      & 0 & \\ldots & A_{kk} & \\ldots & A_{kj} & \\ldots & A_{kn} & b_k \\\\\n",
    "\\ldots \\\\\n",
    "0      & 0      & 0 & \\ldots & A_{ik} & \\ldots & A_{ij} & \\ldots & A_{in} & b_i \\\\\n",
    "\\ldots \\\\\n",
    "0      & 0      & 0 & \\ldots & A_{nk} & \\ldots & A_{nj} & \\ldots & A_{nn} & b_n\n",
    "\\end{array}\n",
    "\\right]\n",
    "$$\n",
    "\n",
    "Instead of choosing $A_{kk}$ as the pivot, we will choose the row with the largest $r_{ik}$, that is, we choose row $p$ such that:\n",
    "$$\n",
    "r_{pk} = \\max_{i \\geq k}(r_{ik})\n",
    "$$\n",
    "If we find such an element, we exchange rows $k$ and $p$ in $\\textbf{A}$ and in $\\textbf{s}$.\n",
    "\n"
   ]
  },
  {
   "cell_type": "markdown",
   "metadata": {
    "slideshow": {
     "slide_type": "slide"
    }
   },
   "source": [
    "Let's write a function to swap rows of a matrix:"
   ]
  },
  {
   "cell_type": "code",
   "execution_count": null,
   "metadata": {
    "slideshow": {
     "slide_type": "fragment"
    }
   },
   "outputs": [],
   "source": [
    "from numpy import shape\n",
    "def swap(a, i, j):\n",
    "    if len(shape(a)) == 1:\n",
    "        a[i],a[j] = a[j],a[i] # unpacking\n",
    "    else:\n",
    "        a[[i, j], :] = a[[j, i], :]"
   ]
  },
  {
   "cell_type": "markdown",
   "metadata": {
    "slideshow": {
     "slide_type": "slide"
    }
   },
   "source": [
    "And let's use it to rewrite the Gauss elimination function:"
   ]
  },
  {
   "cell_type": "code",
   "execution_count": null,
   "metadata": {
    "slideshow": {
     "slide_type": "fragment"
    }
   },
   "outputs": [],
   "source": [
    "from numpy import shape, argmax\n",
    "def gauss_elimination_pivot(a, b, verbose=False):\n",
    "    n, m = shape(a)\n",
    "    n2,  = shape(b)\n",
    "    assert(n==n2)\n",
    "    # New in pivot version\n",
    "    s = zeros(n)\n",
    "    for i in range(n):\n",
    "        s[i] = max(abs(a[i, :]))\n",
    "    for k in range(n-1):\n",
    "        # New in pivot version\n",
    "        p = argmax(abs(a[k:,k])/s[k:]) + k\n",
    "        swap(a, p, k)\n",
    "        swap(b, p, k)\n",
    "        swap(s, p, k)\n",
    "        # The remainder remains as in the previous version\n",
    "        for i in range(k+1, n):\n",
    "            assert(a[k,k] != 0) # this shouldn't happen now, unless the matrix is singular\n",
    "            if (a[i,k] != 0): # no need to do anything when lambda is 0\n",
    "                lmbda = a[i,k]/a[k,k] # lambda is a reserved keyword in Python\n",
    "                a[i, k:n] = a[i, k:n] - lmbda*a[k, k:n] # list slice operations\n",
    "                b[i] = b[i] - lmbda*b[k]\n",
    "            if verbose:\n",
    "                print(a, b)"
   ]
  },
  {
   "cell_type": "code",
   "execution_count": null,
   "metadata": {
    "slideshow": {
     "slide_type": "slide"
    }
   },
   "outputs": [],
   "source": [
    "def gauss_pivot(a, b):\n",
    "    gauss_elimination_pivot(a, b)\n",
    "    return gauss_substitution(a, b) # as in the previous version"
   ]
  },
  {
   "cell_type": "code",
   "execution_count": null,
   "metadata": {
    "slideshow": {
     "slide_type": "fragment"
    }
   },
   "outputs": [],
   "source": [
    "import numpy as np\n",
    "a = array([[0, -1, 1], [-1, 2, -1],  [2, -1, 0]], dtype=np.float_)\n",
    "b = array([0, 0, 1], dtype=np.float_)\n",
    "try:\n",
    "    x = gauss(a, b)\n",
    "except AssertionError as e:\n",
    "    print(\"Version without pivot crashes as expected\")\n",
    "a = array([[0, -1, 1], [-1, 2, -1],  [2, -1, 0]], dtype=np.float_)\n",
    "b = array([0, 0, 1], dtype=np.float_)\n",
    "x = gauss_pivot(a, b)\n",
    "print(\"Solution with scaled pivoting: \", x)"
   ]
  },
  {
   "cell_type": "markdown",
   "metadata": {
    "slideshow": {
     "slide_type": "slide"
    }
   },
   "source": [
    "#### When to pivot\n",
    "\n",
    "Drawbacks of pivoting:\n",
    "* Increased computation cost\n",
    "* Destruction of symmetry and banded structure\n",
    "\n",
    "There is no absolute rule to determine when pivoting should be used. Rules of thumb:\n",
    "Don't pivot when matrix is:\n",
    "* Banded\n",
    "* Positive definite\n",
    "* Symmetric"
   ]
  },
  {
   "cell_type": "markdown",
   "metadata": {
    "slideshow": {
     "slide_type": "slide"
    }
   },
   "source": [
    "## 2.6 Matrix inversion\n",
    "\n",
    "The inverse of an $n \\times n$ matrix $\\textbf{A}$ can be computed by solving the linear equations defined by:\n",
    "$$\n",
    "\\textbf{AX}=\\textbf{I}\n",
    "$$\n",
    "where $\\textbf{I}$ is the $n \\times n$ identity matrix. \n",
    "\n",
    "Warning:\n",
    "* This is a compute-intensive task!\n",
    "* If $\\textbf{A}$ is banded, $\\textbf{A}^{-1}$ is not banded in genral."
   ]
  }
 ],
 "metadata": {
  "celltoolbar": "Slideshow",
  "kernelspec": {
   "display_name": "Python 3",
   "language": "python",
   "name": "python3"
  },
  "language_info": {
   "codemirror_mode": {
    "name": "ipython",
    "version": 3
   },
   "file_extension": ".py",
   "mimetype": "text/x-python",
   "name": "python",
   "nbconvert_exporter": "python",
   "pygments_lexer": "ipython3",
   "version": "3.7.3"
  }
 },
 "nbformat": 4,
 "nbformat_minor": 2
}
